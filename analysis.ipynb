{
 "cells": [
  {
   "cell_type": "markdown",
   "id": "abc69827-e583-4ac8-bf0b-74c08fcaa7ca",
   "metadata": {},
   "source": [
    "# Analysis\n",
    "This is my analysis"
   ]
  },
  {
   "cell_type": "code",
   "execution_count": 1,
   "id": "80503a69-6a8d-479e-9f70-3a96fef7a818",
   "metadata": {},
   "outputs": [
    {
     "data": {
      "text/plain": [
       "8"
      ]
     },
     "execution_count": 1,
     "metadata": {},
     "output_type": "execute_result"
    }
   ],
   "source": [
    "3 + 5"
   ]
  },
  {
   "cell_type": "code",
   "execution_count": 4,
   "id": "a9228b43-5e7c-493b-af8d-787c783d6c2e",
   "metadata": {},
   "outputs": [],
   "source": [
    "weight_kg = 60"
   ]
  },
  {
   "cell_type": "code",
   "execution_count": 5,
   "id": "3ad0f8aa-99c8-45d9-bb01-131b24f737fa",
   "metadata": {},
   "outputs": [
    {
     "name": "stdout",
     "output_type": "stream",
     "text": [
      "60\n"
     ]
    }
   ],
   "source": [
    "print(weight_kg)"
   ]
  },
  {
   "cell_type": "code",
   "execution_count": 6,
   "id": "0112c5ce-b61b-4e19-a696-7517f18dd359",
   "metadata": {},
   "outputs": [],
   "source": [
    "weight_kg_2 = 60.0"
   ]
  },
  {
   "cell_type": "code",
   "execution_count": 7,
   "id": "244473b4-f487-45bb-99c2-ac553db62f91",
   "metadata": {},
   "outputs": [
    {
     "name": "stdout",
     "output_type": "stream",
     "text": [
      "60.0\n"
     ]
    }
   ],
   "source": [
    "print (weight_kg_2)"
   ]
  },
  {
   "cell_type": "code",
   "execution_count": 8,
   "id": "43b9de3c-9e49-4e94-93cd-108ae7720356",
   "metadata": {},
   "outputs": [
    {
     "data": {
      "text/plain": [
       "120"
      ]
     },
     "execution_count": 8,
     "metadata": {},
     "output_type": "execute_result"
    }
   ],
   "source": [
    "weight_kg * 2"
   ]
  },
  {
   "cell_type": "code",
   "execution_count": 9,
   "id": "092ef976-0309-47cf-8844-b944cc7b822a",
   "metadata": {},
   "outputs": [
    {
     "data": {
      "text/plain": [
       "120.0"
      ]
     },
     "execution_count": 9,
     "metadata": {},
     "output_type": "execute_result"
    }
   ],
   "source": [
    "weight_kg_2 *2"
   ]
  },
  {
   "cell_type": "code",
   "execution_count": 10,
   "id": "c0ef160a-57b6-43cd-af1b-3587c026856e",
   "metadata": {},
   "outputs": [],
   "source": [
    "weight_txt = 'My weight is'"
   ]
  },
  {
   "cell_type": "code",
   "execution_count": 11,
   "id": "3fcafed1-ec35-4dc2-a4dc-4a08c3215055",
   "metadata": {},
   "outputs": [
    {
     "name": "stdout",
     "output_type": "stream",
     "text": [
      "My weight is\n"
     ]
    }
   ],
   "source": [
    "print(weight_txt)"
   ]
  },
  {
   "cell_type": "code",
   "execution_count": 12,
   "id": "16beb1f3-f19f-4037-9974-ba654fe69476",
   "metadata": {},
   "outputs": [
    {
     "name": "stdout",
     "output_type": "stream",
     "text": [
      "My weight is 60\n"
     ]
    }
   ],
   "source": [
    "print(weight_txt, weight_kg)"
   ]
  },
  {
   "cell_type": "code",
   "execution_count": 13,
   "id": "132f00dc-854a-4bcf-8aa4-5e6f78733cac",
   "metadata": {},
   "outputs": [
    {
     "data": {
      "text/plain": [
       "'My weight isthis is my other strong'"
      ]
     },
     "execution_count": 13,
     "metadata": {},
     "output_type": "execute_result"
    }
   ],
   "source": [
    "banana = 'this is my other strong'\n",
    "weight_txt + banana"
   ]
  },
  {
   "cell_type": "code",
   "execution_count": 14,
   "id": "41ed1a49-28a0-4b0b-b480-8693d80c0886",
   "metadata": {},
   "outputs": [
    {
     "data": {
      "text/plain": [
       "120.0"
      ]
     },
     "execution_count": 14,
     "metadata": {},
     "output_type": "execute_result"
    }
   ],
   "source": [
    "weight_kg + weight_kg_2"
   ]
  },
  {
   "cell_type": "code",
   "execution_count": 15,
   "id": "6882ed4d-7d0d-49a3-98de-94737a379071",
   "metadata": {},
   "outputs": [
    {
     "ename": "TypeError",
     "evalue": "'str' object is not callable",
     "output_type": "error",
     "traceback": [
      "\u001b[1;31m---------------------------------------------------------------------------\u001b[0m",
      "\u001b[1;31mTypeError\u001b[0m                                 Traceback (most recent call last)",
      "\u001b[1;32m<ipython-input-15-73ec2e1eae22>\u001b[0m in \u001b[0;36m<module>\u001b[1;34m\u001b[0m\n\u001b[0;32m      1\u001b[0m \u001b[0mmessage\u001b[0m \u001b[1;33m=\u001b[0m \u001b[1;34m'hello'\u001b[0m\u001b[1;33m\u001b[0m\u001b[1;33m\u001b[0m\u001b[0m\n\u001b[1;32m----> 2\u001b[1;33m \u001b[0mprint\u001b[0m\u001b[1;33m(\u001b[0m\u001b[0mmessage\u001b[0m\u001b[1;33m(\u001b[0m\u001b[1;36m0\u001b[0m\u001b[1;33m)\u001b[0m\u001b[1;33m)\u001b[0m\u001b[1;33m\u001b[0m\u001b[1;33m\u001b[0m\u001b[0m\n\u001b[0m",
      "\u001b[1;31mTypeError\u001b[0m: 'str' object is not callable"
     ]
    }
   ],
   "source": [
    "message = 'hello'\n",
    "print(message(0))"
   ]
  },
  {
   "cell_type": "code",
   "execution_count": 16,
   "id": "3c55138b-6b32-46bc-9a29-86bc41661670",
   "metadata": {},
   "outputs": [
    {
     "ename": "TypeError",
     "evalue": "'str' object is not callable",
     "output_type": "error",
     "traceback": [
      "\u001b[1;31m---------------------------------------------------------------------------\u001b[0m",
      "\u001b[1;31mTypeError\u001b[0m                                 Traceback (most recent call last)",
      "\u001b[1;32m<ipython-input-16-73ec2e1eae22>\u001b[0m in \u001b[0;36m<module>\u001b[1;34m\u001b[0m\n\u001b[0;32m      1\u001b[0m \u001b[0mmessage\u001b[0m \u001b[1;33m=\u001b[0m \u001b[1;34m'hello'\u001b[0m\u001b[1;33m\u001b[0m\u001b[1;33m\u001b[0m\u001b[0m\n\u001b[1;32m----> 2\u001b[1;33m \u001b[0mprint\u001b[0m\u001b[1;33m(\u001b[0m\u001b[0mmessage\u001b[0m\u001b[1;33m(\u001b[0m\u001b[1;36m0\u001b[0m\u001b[1;33m)\u001b[0m\u001b[1;33m)\u001b[0m\u001b[1;33m\u001b[0m\u001b[1;33m\u001b[0m\u001b[0m\n\u001b[0m",
      "\u001b[1;31mTypeError\u001b[0m: 'str' object is not callable"
     ]
    }
   ],
   "source": [
    "message = 'hello'\n",
    "print(message(0))"
   ]
  },
  {
   "cell_type": "code",
   "execution_count": 17,
   "id": "159fb093-521c-43ce-9abd-f801131e8ff5",
   "metadata": {},
   "outputs": [
    {
     "name": "stdout",
     "output_type": "stream",
     "text": [
      "h\n"
     ]
    }
   ],
   "source": [
    "message = 'hello'\n",
    "print(message[0])"
   ]
  },
  {
   "cell_type": "code",
   "execution_count": 18,
   "id": "531c1964-119d-4d55-9283-62ab807257e1",
   "metadata": {},
   "outputs": [
    {
     "name": "stdout",
     "output_type": "stream",
     "text": [
      "hel\n"
     ]
    }
   ],
   "source": [
    "print(message[0:3])"
   ]
  },
  {
   "cell_type": "code",
   "execution_count": 19,
   "id": "997a9500-0ecf-454e-96e5-29fdc3c680c4",
   "metadata": {},
   "outputs": [
    {
     "name": "stdout",
     "output_type": "stream",
     "text": [
      "ell\n"
     ]
    }
   ],
   "source": [
    "print(message[1:4])"
   ]
  },
  {
   "cell_type": "code",
   "execution_count": 20,
   "id": "bc2d53c1-bf1c-47b3-930b-6362e875da20",
   "metadata": {},
   "outputs": [
    {
     "name": "stdout",
     "output_type": "stream",
     "text": [
      "120\n"
     ]
    }
   ],
   "source": [
    "weight_double = weight_kg * 2\n",
    "print(weight_double)"
   ]
  },
  {
   "cell_type": "code",
   "execution_count": 21,
   "id": "0eadeff3-955a-4571-b87a-fc5e7e6fca8f",
   "metadata": {},
   "outputs": [],
   "source": [
    "# x = 1.0"
   ]
  },
  {
   "cell_type": "code",
   "execution_count": 22,
   "id": "865ab8f2-2b34-4888-b439-b9f8eed8ccb6",
   "metadata": {},
   "outputs": [
    {
     "ename": "NameError",
     "evalue": "name 'x' is not defined",
     "output_type": "error",
     "traceback": [
      "\u001b[1;31m---------------------------------------------------------------------------\u001b[0m",
      "\u001b[1;31mNameError\u001b[0m                                 Traceback (most recent call last)",
      "\u001b[1;32m<ipython-input-22-b40808c3d2da>\u001b[0m in \u001b[0;36m<module>\u001b[1;34m\u001b[0m\n\u001b[0;32m      1\u001b[0m \u001b[1;31m# y = 3.0\u001b[0m\u001b[1;33m\u001b[0m\u001b[1;33m\u001b[0m\u001b[1;33m\u001b[0m\u001b[0m\n\u001b[1;32m----> 2\u001b[1;33m \u001b[0mswap\u001b[0m \u001b[1;33m=\u001b[0m \u001b[0mx\u001b[0m\u001b[1;33m\u001b[0m\u001b[1;33m\u001b[0m\u001b[0m\n\u001b[0m\u001b[0;32m      3\u001b[0m \u001b[0mx\u001b[0m \u001b[1;33m=\u001b[0m \u001b[0my\u001b[0m\u001b[1;33m\u001b[0m\u001b[1;33m\u001b[0m\u001b[0m\n\u001b[0;32m      4\u001b[0m \u001b[0my\u001b[0m \u001b[1;33m=\u001b[0m \u001b[0mswap\u001b[0m\u001b[1;33m\u001b[0m\u001b[1;33m\u001b[0m\u001b[0m\n",
      "\u001b[1;31mNameError\u001b[0m: name 'x' is not defined"
     ]
    }
   ],
   "source": [
    "# x = 1.0\n",
    "y = 3.0\n",
    "swap = x\n",
    "x = y\n",
    "y = swap"
   ]
  },
  {
   "cell_type": "code",
   "execution_count": 23,
   "id": "f44b571e-7831-4e85-8357-b9455a349fbb",
   "metadata": {},
   "outputs": [],
   "source": [
    "x = 1.0\n",
    "y = 3.0\n",
    "swap = x\n",
    "x = y\n",
    "y = swap"
   ]
  },
  {
   "cell_type": "code",
   "execution_count": 24,
   "id": "d0249370-e4f1-45d5-a8d9-5bfeca37ab60",
   "metadata": {},
   "outputs": [
    {
     "data": {
      "text/plain": [
       "2"
      ]
     },
     "execution_count": 24,
     "metadata": {},
     "output_type": "execute_result"
    }
   ],
   "source": [
    "min(2, 3, 6)"
   ]
  },
  {
   "cell_type": "code",
   "execution_count": 25,
   "id": "92c6366f-c64a-44e5-9ac6-a9ec958859e4",
   "metadata": {},
   "outputs": [
    {
     "data": {
      "text/plain": [
       "int"
      ]
     },
     "execution_count": 25,
     "metadata": {},
     "output_type": "execute_result"
    }
   ],
   "source": [
    "type(weight_kg)"
   ]
  },
  {
   "cell_type": "code",
   "execution_count": 26,
   "id": "ad34d741-b088-46df-b08c-e3a8d585794f",
   "metadata": {},
   "outputs": [
    {
     "data": {
      "text/plain": [
       "float"
      ]
     },
     "execution_count": 26,
     "metadata": {},
     "output_type": "execute_result"
    }
   ],
   "source": [
    "type(weight_kg_2)"
   ]
  },
  {
   "cell_type": "code",
   "execution_count": 27,
   "id": "7b8e6940-ef0b-46c4-9c3c-5f0748d91c39",
   "metadata": {},
   "outputs": [
    {
     "name": "stdout",
     "output_type": "stream",
     "text": [
      "2 5\n"
     ]
    }
   ],
   "source": [
    "first = 1\n",
    "second = 5 * first\n",
    "first = 2\n",
    "print (first, second)"
   ]
  },
  {
   "cell_type": "code",
   "execution_count": 28,
   "id": "63a1c2be-e225-4a3f-ace4-e1534f7d6a64",
   "metadata": {},
   "outputs": [
    {
     "name": "stdout",
     "output_type": "stream",
     "text": [
      "\n"
     ]
    }
   ],
   "source": [
    "print()"
   ]
  },
  {
   "cell_type": "code",
   "execution_count": 29,
   "id": "ed795a58-e71f-46ae-8b0b-88f24c83fa74",
   "metadata": {},
   "outputs": [
    {
     "ename": "TypeError",
     "evalue": "min expected 1 argument, got 0",
     "output_type": "error",
     "traceback": [
      "\u001b[1;31m---------------------------------------------------------------------------\u001b[0m",
      "\u001b[1;31mTypeError\u001b[0m                                 Traceback (most recent call last)",
      "\u001b[1;32m<ipython-input-29-9c9b7bdfea4e>\u001b[0m in \u001b[0;36m<module>\u001b[1;34m\u001b[0m\n\u001b[1;32m----> 1\u001b[1;33m \u001b[0mmin\u001b[0m\u001b[1;33m(\u001b[0m\u001b[1;33m)\u001b[0m\u001b[1;33m\u001b[0m\u001b[1;33m\u001b[0m\u001b[0m\n\u001b[0m",
      "\u001b[1;31mTypeError\u001b[0m: min expected 1 argument, got 0"
     ]
    }
   ],
   "source": [
    "min()"
   ]
  },
  {
   "cell_type": "code",
   "execution_count": 30,
   "id": "488b294e-ceab-4ab3-a007-9dc79966e271",
   "metadata": {},
   "outputs": [
    {
     "data": {
      "text/plain": [
       "4"
      ]
     },
     "execution_count": 30,
     "metadata": {},
     "output_type": "execute_result"
    }
   ],
   "source": [
    "round(3.712)"
   ]
  },
  {
   "cell_type": "code",
   "execution_count": 31,
   "id": "404b8e93-3a95-4d69-a14b-5b23bd1e0e5b",
   "metadata": {},
   "outputs": [
    {
     "data": {
      "text/plain": [
       "3.71"
      ]
     },
     "execution_count": 31,
     "metadata": {},
     "output_type": "execute_result"
    }
   ],
   "source": [
    "round(3.712, 2)"
   ]
  },
  {
   "cell_type": "code",
   "execution_count": 32,
   "id": "26db1b80-b1ae-46be-8170-cad3b87dd619",
   "metadata": {},
   "outputs": [
    {
     "data": {
      "text/plain": [
       "3.71"
      ]
     },
     "execution_count": 32,
     "metadata": {},
     "output_type": "execute_result"
    }
   ],
   "source": [
    "round(3.712, ndigits=2)"
   ]
  },
  {
   "cell_type": "code",
   "execution_count": 33,
   "id": "1310dcb6-7485-44ec-9d0e-0cf19fd36b4d",
   "metadata": {},
   "outputs": [
    {
     "data": {
      "text/plain": [
       "'a'"
      ]
     },
     "execution_count": 33,
     "metadata": {},
     "output_type": "execute_result"
    }
   ],
   "source": [
    "min(min('banana', 'hello'))"
   ]
  },
  {
   "cell_type": "code",
   "execution_count": 34,
   "id": "b43fd3b5-c02e-4da6-b4d2-250ba092e7bf",
   "metadata": {},
   "outputs": [
    {
     "name": "stdout",
     "output_type": "stream",
     "text": [
      "example\n",
      "None\n"
     ]
    }
   ],
   "source": [
    "result = print('example')\n",
    "print(result)"
   ]
  },
  {
   "cell_type": "code",
   "execution_count": 35,
   "id": "8c3662e2-6b60-4f17-b3cb-c019b593458f",
   "metadata": {},
   "outputs": [
    {
     "name": "stdout",
     "output_type": "stream",
     "text": [
      "(2, 3, 6)\n"
     ]
    }
   ],
   "source": [
    "result_2 =(2,3,6)\n",
    "print(result_2)"
   ]
  },
  {
   "cell_type": "code",
   "execution_count": 36,
   "id": "9b0f05c6-b6d4-4304-9b33-3c10daf52188",
   "metadata": {},
   "outputs": [
    {
     "name": "stdout",
     "output_type": "stream",
     "text": [
      "2\n"
     ]
    }
   ],
   "source": [
    "result_2=min(2,3,6)\n",
    "print(result_2)"
   ]
  },
  {
   "cell_type": "code",
   "execution_count": 37,
   "id": "f07dd603-a662-4ae8-8d7d-afa5b934850a",
   "metadata": {},
   "outputs": [
    {
     "ename": "NameError",
     "evalue": "name 'name' is not defined",
     "output_type": "error",
     "traceback": [
      "\u001b[1;31m---------------------------------------------------------------------------\u001b[0m",
      "\u001b[1;31mNameError\u001b[0m                                 Traceback (most recent call last)",
      "\u001b[1;32m<ipython-input-37-5f1dfb2f0744>\u001b[0m in \u001b[0;36m<module>\u001b[1;34m\u001b[0m\n\u001b[1;32m----> 1\u001b[1;33m \u001b[0mlen\u001b[0m\u001b[1;33m(\u001b[0m\u001b[0mname\u001b[0m\u001b[1;33m)\u001b[0m\u001b[1;33m\u001b[0m\u001b[1;33m\u001b[0m\u001b[0m\n\u001b[0m",
      "\u001b[1;31mNameError\u001b[0m: name 'name' is not defined"
     ]
    }
   ],
   "source": [
    "len(name)"
   ]
  },
  {
   "cell_type": "code",
   "execution_count": 38,
   "id": "492a6b3d-29d7-4ad9-bad3-1e8aeabe98c3",
   "metadata": {},
   "outputs": [
    {
     "ename": "NameError",
     "evalue": "name 'name' is not defined",
     "output_type": "error",
     "traceback": [
      "\u001b[1;31m---------------------------------------------------------------------------\u001b[0m",
      "\u001b[1;31mNameError\u001b[0m                                 Traceback (most recent call last)",
      "\u001b[1;32m<ipython-input-38-5de175d0a185>\u001b[0m in \u001b[0;36m<module>\u001b[1;34m\u001b[0m\n\u001b[1;32m----> 1\u001b[1;33m \u001b[0mlen\u001b[0m\u001b[1;33m(\u001b[0m\u001b[0mname\u001b[0m\u001b[1;33m,\u001b[0m\u001b[1;36m5\u001b[0m\u001b[1;33m)\u001b[0m\u001b[1;33m\u001b[0m\u001b[1;33m\u001b[0m\u001b[0m\n\u001b[0m",
      "\u001b[1;31mNameError\u001b[0m: name 'name' is not defined"
     ]
    }
   ],
   "source": [
    "len(name,5)"
   ]
  },
  {
   "cell_type": "code",
   "execution_count": 39,
   "id": "cd7de72f-f03d-436a-8320-a577aaff5a47",
   "metadata": {},
   "outputs": [
    {
     "ename": "TypeError",
     "evalue": "'builtin_function_or_method' object is not subscriptable",
     "output_type": "error",
     "traceback": [
      "\u001b[1;31m---------------------------------------------------------------------------\u001b[0m",
      "\u001b[1;31mTypeError\u001b[0m                                 Traceback (most recent call last)",
      "\u001b[1;32m<ipython-input-39-46e2541b450c>\u001b[0m in \u001b[0;36m<module>\u001b[1;34m\u001b[0m\n\u001b[1;32m----> 1\u001b[1;33m \u001b[0mlen\u001b[0m\u001b[1;33m[\u001b[0m\u001b[1;36m1\u001b[0m\u001b[1;33m,\u001b[0m\u001b[1;36m5\u001b[0m\u001b[1;33m]\u001b[0m\u001b[1;33m\u001b[0m\u001b[1;33m\u001b[0m\u001b[0m\n\u001b[0m",
      "\u001b[1;31mTypeError\u001b[0m: 'builtin_function_or_method' object is not subscriptable"
     ]
    }
   ],
   "source": [
    "len[1,5]"
   ]
  },
  {
   "cell_type": "code",
   "execution_count": 40,
   "id": "0cf742f1-2401-4fe8-b237-c75e4ecc96cc",
   "metadata": {},
   "outputs": [
    {
     "ename": "TypeError",
     "evalue": "'builtin_function_or_method' object is not subscriptable",
     "output_type": "error",
     "traceback": [
      "\u001b[1;31m---------------------------------------------------------------------------\u001b[0m",
      "\u001b[1;31mTypeError\u001b[0m                                 Traceback (most recent call last)",
      "\u001b[1;32m<ipython-input-40-cb04a90dcee3>\u001b[0m in \u001b[0;36m<module>\u001b[1;34m\u001b[0m\n\u001b[1;32m----> 1\u001b[1;33m \u001b[0mlen\u001b[0m\u001b[1;33m[\u001b[0m\u001b[1;36m1\u001b[0m\u001b[1;33m:\u001b[0m \u001b[1;36m5\u001b[0m\u001b[1;33m]\u001b[0m\u001b[1;33m\u001b[0m\u001b[1;33m\u001b[0m\u001b[0m\n\u001b[0m",
      "\u001b[1;31mTypeError\u001b[0m: 'builtin_function_or_method' object is not subscriptable"
     ]
    }
   ],
   "source": [
    "len[1: 5]"
   ]
  },
  {
   "cell_type": "code",
   "execution_count": 41,
   "id": "f23c38c7-dea0-46b5-b964-8a1e3e3db4e8",
   "metadata": {},
   "outputs": [
    {
     "name": "stdout",
     "output_type": "stream",
     "text": [
      "name\n"
     ]
    }
   ],
   "source": [
    "result = 'name'\n",
    "len(result)\n",
    "print(result)"
   ]
  },
  {
   "cell_type": "code",
   "execution_count": 42,
   "id": "213a6d15-929e-4de8-be23-e251adfb7456",
   "metadata": {},
   "outputs": [
    {
     "name": "stdout",
     "output_type": "stream",
     "text": [
      "4\n"
     ]
    }
   ],
   "source": [
    "print(len(result))"
   ]
  },
  {
   "cell_type": "code",
   "execution_count": 43,
   "id": "934ad21c-3d93-4024-9aa0-609ed26d077e",
   "metadata": {},
   "outputs": [
    {
     "name": "stdout",
     "output_type": "stream",
     "text": [
      "n\n"
     ]
    }
   ],
   "source": [
    "print(result[0])"
   ]
  },
  {
   "cell_type": "code",
   "execution_count": 45,
   "id": "3b431f1e-a4d4-4524-89ef-c71b69ff05e1",
   "metadata": {},
   "outputs": [
    {
     "name": "stdout",
     "output_type": "stream",
     "text": [
      "4\n"
     ]
    },
    {
     "ename": "IndexError",
     "evalue": "string index out of range",
     "output_type": "error",
     "traceback": [
      "\u001b[1;31m---------------------------------------------------------------------------\u001b[0m",
      "\u001b[1;31mIndexError\u001b[0m                                Traceback (most recent call last)",
      "\u001b[1;32m<ipython-input-45-31296b142403>\u001b[0m in \u001b[0;36m<module>\u001b[1;34m\u001b[0m\n\u001b[0;32m      1\u001b[0m \u001b[0mprint\u001b[0m\u001b[1;33m(\u001b[0m\u001b[0mlen\u001b[0m\u001b[1;33m(\u001b[0m\u001b[0mresult\u001b[0m\u001b[1;33m)\u001b[0m\u001b[1;33m)\u001b[0m\u001b[1;33m\u001b[0m\u001b[1;33m\u001b[0m\u001b[0m\n\u001b[1;32m----> 2\u001b[1;33m \u001b[0mprint\u001b[0m\u001b[1;33m(\u001b[0m\u001b[0mresult\u001b[0m\u001b[1;33m[\u001b[0m\u001b[1;36m4\u001b[0m\u001b[1;33m]\u001b[0m\u001b[1;33m)\u001b[0m\u001b[1;33m\u001b[0m\u001b[1;33m\u001b[0m\u001b[0m\n\u001b[0m",
      "\u001b[1;31mIndexError\u001b[0m: string index out of range"
     ]
    }
   ],
   "source": [
    "print(len(result))\n",
    "print(result[4])"
   ]
  },
  {
   "cell_type": "code",
   "execution_count": 46,
   "id": "56b389a1-ff34-442c-bc03-8477c9d70ace",
   "metadata": {},
   "outputs": [
    {
     "name": "stdout",
     "output_type": "stream",
     "text": [
      "4\n"
     ]
    },
    {
     "ename": "IndexError",
     "evalue": "string index out of range",
     "output_type": "error",
     "traceback": [
      "\u001b[1;31m---------------------------------------------------------------------------\u001b[0m",
      "\u001b[1;31mIndexError\u001b[0m                                Traceback (most recent call last)",
      "\u001b[1;32m<ipython-input-46-f944e0e9b3ba>\u001b[0m in \u001b[0;36m<module>\u001b[1;34m\u001b[0m\n\u001b[0;32m      1\u001b[0m \u001b[0mprint\u001b[0m\u001b[1;33m(\u001b[0m\u001b[0mlen\u001b[0m\u001b[1;33m(\u001b[0m\u001b[0mresult\u001b[0m\u001b[1;33m)\u001b[0m\u001b[1;33m)\u001b[0m\u001b[1;33m\u001b[0m\u001b[1;33m\u001b[0m\u001b[0m\n\u001b[1;32m----> 2\u001b[1;33m \u001b[0mprint\u001b[0m\u001b[1;33m(\u001b[0m\u001b[0mresult\u001b[0m\u001b[1;33m[\u001b[0m\u001b[1;36m5\u001b[0m\u001b[1;33m]\u001b[0m\u001b[1;33m)\u001b[0m\u001b[1;33m\u001b[0m\u001b[1;33m\u001b[0m\u001b[0m\n\u001b[0m",
      "\u001b[1;31mIndexError\u001b[0m: string index out of range"
     ]
    }
   ],
   "source": [
    "print(len(result))\n",
    "print(result[5])"
   ]
  },
  {
   "cell_type": "code",
   "execution_count": 47,
   "id": "66f75b93-e6e9-4e4b-8aba-7e052f77f766",
   "metadata": {},
   "outputs": [
    {
     "name": "stdout",
     "output_type": "stream",
     "text": [
      "4\n",
      "name\n"
     ]
    }
   ],
   "source": [
    "print(len(result))\n",
    "print(result)"
   ]
  },
  {
   "cell_type": "code",
   "execution_count": 48,
   "id": "b8b72b5d-1b9f-424f-945d-8608c6563458",
   "metadata": {},
   "outputs": [
    {
     "name": "stdout",
     "output_type": "stream",
     "text": [
      "4\n",
      "e\n"
     ]
    }
   ],
   "source": [
    "print(len(result))\n",
    "print(result[3])"
   ]
  },
  {
   "cell_type": "code",
   "execution_count": 50,
   "id": "00579fd5-72d4-445c-8991-24a47785bd67",
   "metadata": {},
   "outputs": [
    {
     "name": "stdout",
     "output_type": "stream",
     "text": [
      "name\n",
      "e\n"
     ]
    }
   ],
   "source": [
    "print(result)\n",
    "print(result[len(result)-1])"
   ]
  },
  {
   "cell_type": "code",
   "execution_count": 51,
   "id": "eabe564f-414b-42df-b3e2-b2bf14b5ea52",
   "metadata": {},
   "outputs": [],
   "source": [
    "import math"
   ]
  },
  {
   "cell_type": "code",
   "execution_count": 52,
   "id": "1806f93e-f952-4945-9d70-ba62c94fb159",
   "metadata": {},
   "outputs": [
    {
     "ename": "NameError",
     "evalue": "name 'amth' is not defined",
     "output_type": "error",
     "traceback": [
      "\u001b[1;31m---------------------------------------------------------------------------\u001b[0m",
      "\u001b[1;31mNameError\u001b[0m                                 Traceback (most recent call last)",
      "\u001b[1;32m<ipython-input-52-ff4ca7e4f263>\u001b[0m in \u001b[0;36m<module>\u001b[1;34m\u001b[0m\n\u001b[1;32m----> 1\u001b[1;33m \u001b[0mprint\u001b[0m\u001b[1;33m(\u001b[0m\u001b[0mamth\u001b[0m\u001b[1;33m.\u001b[0m\u001b[0mpi\u001b[0m\u001b[1;33m)\u001b[0m\u001b[1;33m\u001b[0m\u001b[1;33m\u001b[0m\u001b[0m\n\u001b[0m",
      "\u001b[1;31mNameError\u001b[0m: name 'amth' is not defined"
     ]
    }
   ],
   "source": [
    "print(amth.pi)"
   ]
  },
  {
   "cell_type": "code",
   "execution_count": 53,
   "id": "65fcad90-900e-418b-83b6-62d289cd0f5a",
   "metadata": {},
   "outputs": [
    {
     "name": "stdout",
     "output_type": "stream",
     "text": [
      "3.141592653589793\n"
     ]
    }
   ],
   "source": [
    "print(math.pi)"
   ]
  },
  {
   "cell_type": "code",
   "execution_count": 54,
   "id": "ca765f59-78bc-4d4b-9402-fa48e2fa2087",
   "metadata": {},
   "outputs": [
    {
     "data": {
      "text/plain": [
       "-1.0"
      ]
     },
     "execution_count": 54,
     "metadata": {},
     "output_type": "execute_result"
    }
   ],
   "source": [
    "math.cos(math.pi)"
   ]
  },
  {
   "cell_type": "code",
   "execution_count": 55,
   "id": "ebe05371-7f8b-4167-a609-d7ae9bb81e26",
   "metadata": {},
   "outputs": [
    {
     "data": {
      "text/plain": [
       "1.2246467991473532e-16"
      ]
     },
     "execution_count": 55,
     "metadata": {},
     "output_type": "execute_result"
    }
   ],
   "source": [
    "from math import sin\n",
    "sin(math.pi)"
   ]
  },
  {
   "cell_type": "code",
   "execution_count": 56,
   "id": "6e534eb1-b352-476c-af6d-f2956a26224a",
   "metadata": {},
   "outputs": [
    {
     "name": "stdout",
     "output_type": "stream",
     "text": [
      "Help on built-in module math:\n",
      "\n",
      "NAME\n",
      "    math\n",
      "\n",
      "DESCRIPTION\n",
      "    This module provides access to the mathematical functions\n",
      "    defined by the C standard.\n",
      "\n",
      "FUNCTIONS\n",
      "    acos(x, /)\n",
      "        Return the arc cosine (measured in radians) of x.\n",
      "    \n",
      "    acosh(x, /)\n",
      "        Return the inverse hyperbolic cosine of x.\n",
      "    \n",
      "    asin(x, /)\n",
      "        Return the arc sine (measured in radians) of x.\n",
      "    \n",
      "    asinh(x, /)\n",
      "        Return the inverse hyperbolic sine of x.\n",
      "    \n",
      "    atan(x, /)\n",
      "        Return the arc tangent (measured in radians) of x.\n",
      "    \n",
      "    atan2(y, x, /)\n",
      "        Return the arc tangent (measured in radians) of y/x.\n",
      "        \n",
      "        Unlike atan(y/x), the signs of both x and y are considered.\n",
      "    \n",
      "    atanh(x, /)\n",
      "        Return the inverse hyperbolic tangent of x.\n",
      "    \n",
      "    ceil(x, /)\n",
      "        Return the ceiling of x as an Integral.\n",
      "        \n",
      "        This is the smallest integer >= x.\n",
      "    \n",
      "    comb(n, k, /)\n",
      "        Number of ways to choose k items from n items without repetition and without order.\n",
      "        \n",
      "        Evaluates to n! / (k! * (n - k)!) when k <= n and evaluates\n",
      "        to zero when k > n.\n",
      "        \n",
      "        Also called the binomial coefficient because it is equivalent\n",
      "        to the coefficient of k-th term in polynomial expansion of the\n",
      "        expression (1 + x)**n.\n",
      "        \n",
      "        Raises TypeError if either of the arguments are not integers.\n",
      "        Raises ValueError if either of the arguments are negative.\n",
      "    \n",
      "    copysign(x, y, /)\n",
      "        Return a float with the magnitude (absolute value) of x but the sign of y.\n",
      "        \n",
      "        On platforms that support signed zeros, copysign(1.0, -0.0)\n",
      "        returns -1.0.\n",
      "    \n",
      "    cos(x, /)\n",
      "        Return the cosine of x (measured in radians).\n",
      "    \n",
      "    cosh(x, /)\n",
      "        Return the hyperbolic cosine of x.\n",
      "    \n",
      "    degrees(x, /)\n",
      "        Convert angle x from radians to degrees.\n",
      "    \n",
      "    dist(p, q, /)\n",
      "        Return the Euclidean distance between two points p and q.\n",
      "        \n",
      "        The points should be specified as sequences (or iterables) of\n",
      "        coordinates.  Both inputs must have the same dimension.\n",
      "        \n",
      "        Roughly equivalent to:\n",
      "            sqrt(sum((px - qx) ** 2.0 for px, qx in zip(p, q)))\n",
      "    \n",
      "    erf(x, /)\n",
      "        Error function at x.\n",
      "    \n",
      "    erfc(x, /)\n",
      "        Complementary error function at x.\n",
      "    \n",
      "    exp(x, /)\n",
      "        Return e raised to the power of x.\n",
      "    \n",
      "    expm1(x, /)\n",
      "        Return exp(x)-1.\n",
      "        \n",
      "        This function avoids the loss of precision involved in the direct evaluation of exp(x)-1 for small x.\n",
      "    \n",
      "    fabs(x, /)\n",
      "        Return the absolute value of the float x.\n",
      "    \n",
      "    factorial(x, /)\n",
      "        Find x!.\n",
      "        \n",
      "        Raise a ValueError if x is negative or non-integral.\n",
      "    \n",
      "    floor(x, /)\n",
      "        Return the floor of x as an Integral.\n",
      "        \n",
      "        This is the largest integer <= x.\n",
      "    \n",
      "    fmod(x, y, /)\n",
      "        Return fmod(x, y), according to platform C.\n",
      "        \n",
      "        x % y may differ.\n",
      "    \n",
      "    frexp(x, /)\n",
      "        Return the mantissa and exponent of x, as pair (m, e).\n",
      "        \n",
      "        m is a float and e is an int, such that x = m * 2.**e.\n",
      "        If x is 0, m and e are both 0.  Else 0.5 <= abs(m) < 1.0.\n",
      "    \n",
      "    fsum(seq, /)\n",
      "        Return an accurate floating point sum of values in the iterable seq.\n",
      "        \n",
      "        Assumes IEEE-754 floating point arithmetic.\n",
      "    \n",
      "    gamma(x, /)\n",
      "        Gamma function at x.\n",
      "    \n",
      "    gcd(x, y, /)\n",
      "        greatest common divisor of x and y\n",
      "    \n",
      "    hypot(...)\n",
      "        hypot(*coordinates) -> value\n",
      "        \n",
      "        Multidimensional Euclidean distance from the origin to a point.\n",
      "        \n",
      "        Roughly equivalent to:\n",
      "            sqrt(sum(x**2 for x in coordinates))\n",
      "        \n",
      "        For a two dimensional point (x, y), gives the hypotenuse\n",
      "        using the Pythagorean theorem:  sqrt(x*x + y*y).\n",
      "        \n",
      "        For example, the hypotenuse of a 3/4/5 right triangle is:\n",
      "        \n",
      "            >>> hypot(3.0, 4.0)\n",
      "            5.0\n",
      "    \n",
      "    isclose(a, b, *, rel_tol=1e-09, abs_tol=0.0)\n",
      "        Determine whether two floating point numbers are close in value.\n",
      "        \n",
      "          rel_tol\n",
      "            maximum difference for being considered \"close\", relative to the\n",
      "            magnitude of the input values\n",
      "          abs_tol\n",
      "            maximum difference for being considered \"close\", regardless of the\n",
      "            magnitude of the input values\n",
      "        \n",
      "        Return True if a is close in value to b, and False otherwise.\n",
      "        \n",
      "        For the values to be considered close, the difference between them\n",
      "        must be smaller than at least one of the tolerances.\n",
      "        \n",
      "        -inf, inf and NaN behave similarly to the IEEE 754 Standard.  That\n",
      "        is, NaN is not close to anything, even itself.  inf and -inf are\n",
      "        only close to themselves.\n",
      "    \n",
      "    isfinite(x, /)\n",
      "        Return True if x is neither an infinity nor a NaN, and False otherwise.\n",
      "    \n",
      "    isinf(x, /)\n",
      "        Return True if x is a positive or negative infinity, and False otherwise.\n",
      "    \n",
      "    isnan(x, /)\n",
      "        Return True if x is a NaN (not a number), and False otherwise.\n",
      "    \n",
      "    isqrt(n, /)\n",
      "        Return the integer part of the square root of the input.\n",
      "    \n",
      "    ldexp(x, i, /)\n",
      "        Return x * (2**i).\n",
      "        \n",
      "        This is essentially the inverse of frexp().\n",
      "    \n",
      "    lgamma(x, /)\n",
      "        Natural logarithm of absolute value of Gamma function at x.\n",
      "    \n",
      "    log(...)\n",
      "        log(x, [base=math.e])\n",
      "        Return the logarithm of x to the given base.\n",
      "        \n",
      "        If the base not specified, returns the natural logarithm (base e) of x.\n",
      "    \n",
      "    log10(x, /)\n",
      "        Return the base 10 logarithm of x.\n",
      "    \n",
      "    log1p(x, /)\n",
      "        Return the natural logarithm of 1+x (base e).\n",
      "        \n",
      "        The result is computed in a way which is accurate for x near zero.\n",
      "    \n",
      "    log2(x, /)\n",
      "        Return the base 2 logarithm of x.\n",
      "    \n",
      "    modf(x, /)\n",
      "        Return the fractional and integer parts of x.\n",
      "        \n",
      "        Both results carry the sign of x and are floats.\n",
      "    \n",
      "    perm(n, k=None, /)\n",
      "        Number of ways to choose k items from n items without repetition and with order.\n",
      "        \n",
      "        Evaluates to n! / (n - k)! when k <= n and evaluates\n",
      "        to zero when k > n.\n",
      "        \n",
      "        If k is not specified or is None, then k defaults to n\n",
      "        and the function returns n!.\n",
      "        \n",
      "        Raises TypeError if either of the arguments are not integers.\n",
      "        Raises ValueError if either of the arguments are negative.\n",
      "    \n",
      "    pow(x, y, /)\n",
      "        Return x**y (x to the power of y).\n",
      "    \n",
      "    prod(iterable, /, *, start=1)\n",
      "        Calculate the product of all the elements in the input iterable.\n",
      "        \n",
      "        The default start value for the product is 1.\n",
      "        \n",
      "        When the iterable is empty, return the start value.  This function is\n",
      "        intended specifically for use with numeric values and may reject\n",
      "        non-numeric types.\n",
      "    \n",
      "    radians(x, /)\n",
      "        Convert angle x from degrees to radians.\n",
      "    \n",
      "    remainder(x, y, /)\n",
      "        Difference between x and the closest integer multiple of y.\n",
      "        \n",
      "        Return x - n*y where n*y is the closest integer multiple of y.\n",
      "        In the case where x is exactly halfway between two multiples of\n",
      "        y, the nearest even value of n is used. The result is always exact.\n",
      "    \n",
      "    sin(x, /)\n",
      "        Return the sine of x (measured in radians).\n",
      "    \n",
      "    sinh(x, /)\n",
      "        Return the hyperbolic sine of x.\n",
      "    \n",
      "    sqrt(x, /)\n",
      "        Return the square root of x.\n",
      "    \n",
      "    tan(x, /)\n",
      "        Return the tangent of x (measured in radians).\n",
      "    \n",
      "    tanh(x, /)\n",
      "        Return the hyperbolic tangent of x.\n",
      "    \n",
      "    trunc(x, /)\n",
      "        Truncates the Real x to the nearest Integral toward 0.\n",
      "        \n",
      "        Uses the __trunc__ magic method.\n",
      "\n",
      "DATA\n",
      "    e = 2.718281828459045\n",
      "    inf = inf\n",
      "    nan = nan\n",
      "    pi = 3.141592653589793\n",
      "    tau = 6.283185307179586\n",
      "\n",
      "FILE\n",
      "    (built-in)\n",
      "\n",
      "\n"
     ]
    }
   ],
   "source": [
    "help(math)"
   ]
  },
  {
   "cell_type": "code",
   "execution_count": 57,
   "id": "a2074731-dc1d-421e-b133-9b15ea81d99a",
   "metadata": {},
   "outputs": [
    {
     "data": {
      "text/plain": [
       "1.4142135623730951"
      ]
     },
     "execution_count": 57,
     "metadata": {},
     "output_type": "execute_result"
    }
   ],
   "source": [
    "math.pow(2,0.5)"
   ]
  },
  {
   "cell_type": "code",
   "execution_count": 58,
   "id": "23364a63-8fc6-47a1-83eb-cf186519c14b",
   "metadata": {},
   "outputs": [
    {
     "name": "stdout",
     "output_type": "stream",
     "text": [
      "Help on module random:\n",
      "\n",
      "NAME\n",
      "    random - Random variable generators.\n",
      "\n",
      "MODULE REFERENCE\n",
      "    https://docs.python.org/3.8/library/random\n",
      "    \n",
      "    The following documentation is automatically generated from the Python\n",
      "    source files.  It may be incomplete, incorrect or include features that\n",
      "    are considered implementation detail and may vary between Python\n",
      "    implementations.  When in doubt, consult the module reference at the\n",
      "    location listed above.\n",
      "\n",
      "DESCRIPTION\n",
      "        integers\n",
      "        --------\n",
      "               uniform within range\n",
      "    \n",
      "        sequences\n",
      "        ---------\n",
      "               pick random element\n",
      "               pick random sample\n",
      "               pick weighted random sample\n",
      "               generate random permutation\n",
      "    \n",
      "        distributions on the real line:\n",
      "        ------------------------------\n",
      "               uniform\n",
      "               triangular\n",
      "               normal (Gaussian)\n",
      "               lognormal\n",
      "               negative exponential\n",
      "               gamma\n",
      "               beta\n",
      "               pareto\n",
      "               Weibull\n",
      "    \n",
      "        distributions on the circle (angles 0 to 2pi)\n",
      "        ---------------------------------------------\n",
      "               circular uniform\n",
      "               von Mises\n",
      "    \n",
      "    General notes on the underlying Mersenne Twister core generator:\n",
      "    \n",
      "    * The period is 2**19937-1.\n",
      "    * It is one of the most extensively tested generators in existence.\n",
      "    * The random() method is implemented in C, executes in a single Python step,\n",
      "      and is, therefore, threadsafe.\n",
      "\n",
      "CLASSES\n",
      "    _random.Random(builtins.object)\n",
      "        Random\n",
      "            SystemRandom\n",
      "    \n",
      "    class Random(_random.Random)\n",
      "     |  Random(x=None)\n",
      "     |  \n",
      "     |  Random number generator base class used by bound module functions.\n",
      "     |  \n",
      "     |  Used to instantiate instances of Random to get generators that don't\n",
      "     |  share state.\n",
      "     |  \n",
      "     |  Class Random can also be subclassed if you want to use a different basic\n",
      "     |  generator of your own devising: in that case, override the following\n",
      "     |  methods:  random(), seed(), getstate(), and setstate().\n",
      "     |  Optionally, implement a getrandbits() method so that randrange()\n",
      "     |  can cover arbitrarily large ranges.\n",
      "     |  \n",
      "     |  Method resolution order:\n",
      "     |      Random\n",
      "     |      _random.Random\n",
      "     |      builtins.object\n",
      "     |  \n",
      "     |  Methods defined here:\n",
      "     |  \n",
      "     |  __getstate__(self)\n",
      "     |      # Issue 17489: Since __reduce__ was defined to fix #759889 this is no\n",
      "     |      # longer called; we leave it here because it has been here since random was\n",
      "     |      # rewritten back in 2001 and why risk breaking something.\n",
      "     |  \n",
      "     |  __init__(self, x=None)\n",
      "     |      Initialize an instance.\n",
      "     |      \n",
      "     |      Optional argument x controls seeding, as for Random.seed().\n",
      "     |  \n",
      "     |  __reduce__(self)\n",
      "     |      Helper for pickle.\n",
      "     |  \n",
      "     |  __setstate__(self, state)\n",
      "     |  \n",
      "     |  betavariate(self, alpha, beta)\n",
      "     |      Beta distribution.\n",
      "     |      \n",
      "     |      Conditions on the parameters are alpha > 0 and beta > 0.\n",
      "     |      Returned values range between 0 and 1.\n",
      "     |  \n",
      "     |  choice(self, seq)\n",
      "     |      Choose a random element from a non-empty sequence.\n",
      "     |  \n",
      "     |  choices(self, population, weights=None, *, cum_weights=None, k=1)\n",
      "     |      Return a k sized list of population elements chosen with replacement.\n",
      "     |      \n",
      "     |      If the relative weights or cumulative weights are not specified,\n",
      "     |      the selections are made with equal probability.\n",
      "     |  \n",
      "     |  expovariate(self, lambd)\n",
      "     |      Exponential distribution.\n",
      "     |      \n",
      "     |      lambd is 1.0 divided by the desired mean.  It should be\n",
      "     |      nonzero.  (The parameter would be called \"lambda\", but that is\n",
      "     |      a reserved word in Python.)  Returned values range from 0 to\n",
      "     |      positive infinity if lambd is positive, and from negative\n",
      "     |      infinity to 0 if lambd is negative.\n",
      "     |  \n",
      "     |  gammavariate(self, alpha, beta)\n",
      "     |      Gamma distribution.  Not the gamma function!\n",
      "     |      \n",
      "     |      Conditions on the parameters are alpha > 0 and beta > 0.\n",
      "     |      \n",
      "     |      The probability distribution function is:\n",
      "     |      \n",
      "     |                  x ** (alpha - 1) * math.exp(-x / beta)\n",
      "     |        pdf(x) =  --------------------------------------\n",
      "     |                    math.gamma(alpha) * beta ** alpha\n",
      "     |  \n",
      "     |  gauss(self, mu, sigma)\n",
      "     |      Gaussian distribution.\n",
      "     |      \n",
      "     |      mu is the mean, and sigma is the standard deviation.  This is\n",
      "     |      slightly faster than the normalvariate() function.\n",
      "     |      \n",
      "     |      Not thread-safe without a lock around calls.\n",
      "     |  \n",
      "     |  getstate(self)\n",
      "     |      Return internal state; can be passed to setstate() later.\n",
      "     |  \n",
      "     |  lognormvariate(self, mu, sigma)\n",
      "     |      Log normal distribution.\n",
      "     |      \n",
      "     |      If you take the natural logarithm of this distribution, you'll get a\n",
      "     |      normal distribution with mean mu and standard deviation sigma.\n",
      "     |      mu can have any value, and sigma must be greater than zero.\n",
      "     |  \n",
      "     |  normalvariate(self, mu, sigma)\n",
      "     |      Normal distribution.\n",
      "     |      \n",
      "     |      mu is the mean, and sigma is the standard deviation.\n",
      "     |  \n",
      "     |  paretovariate(self, alpha)\n",
      "     |      Pareto distribution.  alpha is the shape parameter.\n",
      "     |  \n",
      "     |  randint(self, a, b)\n",
      "     |      Return random integer in range [a, b], including both end points.\n",
      "     |  \n",
      "     |  randrange(self, start, stop=None, step=1, _int=<class 'int'>)\n",
      "     |      Choose a random item from range(start, stop[, step]).\n",
      "     |      \n",
      "     |      This fixes the problem with randint() which includes the\n",
      "     |      endpoint; in Python this is usually not what you want.\n",
      "     |  \n",
      "     |  sample(self, population, k)\n",
      "     |      Chooses k unique random elements from a population sequence or set.\n",
      "     |      \n",
      "     |      Returns a new list containing elements from the population while\n",
      "     |      leaving the original population unchanged.  The resulting list is\n",
      "     |      in selection order so that all sub-slices will also be valid random\n",
      "     |      samples.  This allows raffle winners (the sample) to be partitioned\n",
      "     |      into grand prize and second place winners (the subslices).\n",
      "     |      \n",
      "     |      Members of the population need not be hashable or unique.  If the\n",
      "     |      population contains repeats, then each occurrence is a possible\n",
      "     |      selection in the sample.\n",
      "     |      \n",
      "     |      To choose a sample in a range of integers, use range as an argument.\n",
      "     |      This is especially fast and space efficient for sampling from a\n",
      "     |      large population:   sample(range(10000000), 60)\n",
      "     |  \n",
      "     |  seed(self, a=None, version=2)\n",
      "     |      Initialize internal state from hashable object.\n",
      "     |      \n",
      "     |      None or no argument seeds from current time or from an operating\n",
      "     |      system specific randomness source if available.\n",
      "     |      \n",
      "     |      If *a* is an int, all bits are used.\n",
      "     |      \n",
      "     |      For version 2 (the default), all of the bits are used if *a* is a str,\n",
      "     |      bytes, or bytearray.  For version 1 (provided for reproducing random\n",
      "     |      sequences from older versions of Python), the algorithm for str and\n",
      "     |      bytes generates a narrower range of seeds.\n",
      "     |  \n",
      "     |  setstate(self, state)\n",
      "     |      Restore internal state from object returned by getstate().\n",
      "     |  \n",
      "     |  shuffle(self, x, random=None)\n",
      "     |      Shuffle list x in place, and return None.\n",
      "     |      \n",
      "     |      Optional argument random is a 0-argument function returning a\n",
      "     |      random float in [0.0, 1.0); if it is the default None, the\n",
      "     |      standard random.random will be used.\n",
      "     |  \n",
      "     |  triangular(self, low=0.0, high=1.0, mode=None)\n",
      "     |      Triangular distribution.\n",
      "     |      \n",
      "     |      Continuous distribution bounded by given lower and upper limits,\n",
      "     |      and having a given mode value in-between.\n",
      "     |      \n",
      "     |      http://en.wikipedia.org/wiki/Triangular_distribution\n",
      "     |  \n",
      "     |  uniform(self, a, b)\n",
      "     |      Get a random number in the range [a, b) or [a, b] depending on rounding.\n",
      "     |  \n",
      "     |  vonmisesvariate(self, mu, kappa)\n",
      "     |      Circular data distribution.\n",
      "     |      \n",
      "     |      mu is the mean angle, expressed in radians between 0 and 2*pi, and\n",
      "     |      kappa is the concentration parameter, which must be greater than or\n",
      "     |      equal to zero.  If kappa is equal to zero, this distribution reduces\n",
      "     |      to a uniform random angle over the range 0 to 2*pi.\n",
      "     |  \n",
      "     |  weibullvariate(self, alpha, beta)\n",
      "     |      Weibull distribution.\n",
      "     |      \n",
      "     |      alpha is the scale parameter and beta is the shape parameter.\n",
      "     |  \n",
      "     |  ----------------------------------------------------------------------\n",
      "     |  Class methods defined here:\n",
      "     |  \n",
      "     |  __init_subclass__(**kwargs) from builtins.type\n",
      "     |      Control how subclasses generate random integers.\n",
      "     |      \n",
      "     |      The algorithm a subclass can use depends on the random() and/or\n",
      "     |      getrandbits() implementation available to it and determines\n",
      "     |      whether it can generate random integers from arbitrarily large\n",
      "     |      ranges.\n",
      "     |  \n",
      "     |  ----------------------------------------------------------------------\n",
      "     |  Data descriptors defined here:\n",
      "     |  \n",
      "     |  __dict__\n",
      "     |      dictionary for instance variables (if defined)\n",
      "     |  \n",
      "     |  __weakref__\n",
      "     |      list of weak references to the object (if defined)\n",
      "     |  \n",
      "     |  ----------------------------------------------------------------------\n",
      "     |  Data and other attributes defined here:\n",
      "     |  \n",
      "     |  VERSION = 3\n",
      "     |  \n",
      "     |  ----------------------------------------------------------------------\n",
      "     |  Methods inherited from _random.Random:\n",
      "     |  \n",
      "     |  __getattribute__(self, name, /)\n",
      "     |      Return getattr(self, name).\n",
      "     |  \n",
      "     |  getrandbits(self, k, /)\n",
      "     |      getrandbits(k) -> x.  Generates an int with k random bits.\n",
      "     |  \n",
      "     |  random(self, /)\n",
      "     |      random() -> x in the interval [0, 1).\n",
      "     |  \n",
      "     |  ----------------------------------------------------------------------\n",
      "     |  Static methods inherited from _random.Random:\n",
      "     |  \n",
      "     |  __new__(*args, **kwargs) from builtins.type\n",
      "     |      Create and return a new object.  See help(type) for accurate signature.\n",
      "    \n",
      "    class SystemRandom(Random)\n",
      "     |  SystemRandom(x=None)\n",
      "     |  \n",
      "     |  Alternate random number generator using sources provided\n",
      "     |  by the operating system (such as /dev/urandom on Unix or\n",
      "     |  CryptGenRandom on Windows).\n",
      "     |  \n",
      "     |   Not available on all systems (see os.urandom() for details).\n",
      "     |  \n",
      "     |  Method resolution order:\n",
      "     |      SystemRandom\n",
      "     |      Random\n",
      "     |      _random.Random\n",
      "     |      builtins.object\n",
      "     |  \n",
      "     |  Methods defined here:\n",
      "     |  \n",
      "     |  getrandbits(self, k)\n",
      "     |      getrandbits(k) -> x.  Generates an int with k random bits.\n",
      "     |  \n",
      "     |  getstate = _notimplemented(self, *args, **kwds)\n",
      "     |  \n",
      "     |  random(self)\n",
      "     |      Get the next random number in the range [0.0, 1.0).\n",
      "     |  \n",
      "     |  seed(self, *args, **kwds)\n",
      "     |      Stub method.  Not used for a system random number generator.\n",
      "     |  \n",
      "     |  setstate = _notimplemented(self, *args, **kwds)\n",
      "     |  \n",
      "     |  ----------------------------------------------------------------------\n",
      "     |  Methods inherited from Random:\n",
      "     |  \n",
      "     |  __getstate__(self)\n",
      "     |      # Issue 17489: Since __reduce__ was defined to fix #759889 this is no\n",
      "     |      # longer called; we leave it here because it has been here since random was\n",
      "     |      # rewritten back in 2001 and why risk breaking something.\n",
      "     |  \n",
      "     |  __init__(self, x=None)\n",
      "     |      Initialize an instance.\n",
      "     |      \n",
      "     |      Optional argument x controls seeding, as for Random.seed().\n",
      "     |  \n",
      "     |  __reduce__(self)\n",
      "     |      Helper for pickle.\n",
      "     |  \n",
      "     |  __setstate__(self, state)\n",
      "     |  \n",
      "     |  betavariate(self, alpha, beta)\n",
      "     |      Beta distribution.\n",
      "     |      \n",
      "     |      Conditions on the parameters are alpha > 0 and beta > 0.\n",
      "     |      Returned values range between 0 and 1.\n",
      "     |  \n",
      "     |  choice(self, seq)\n",
      "     |      Choose a random element from a non-empty sequence.\n",
      "     |  \n",
      "     |  choices(self, population, weights=None, *, cum_weights=None, k=1)\n",
      "     |      Return a k sized list of population elements chosen with replacement.\n",
      "     |      \n",
      "     |      If the relative weights or cumulative weights are not specified,\n",
      "     |      the selections are made with equal probability.\n",
      "     |  \n",
      "     |  expovariate(self, lambd)\n",
      "     |      Exponential distribution.\n",
      "     |      \n",
      "     |      lambd is 1.0 divided by the desired mean.  It should be\n",
      "     |      nonzero.  (The parameter would be called \"lambda\", but that is\n",
      "     |      a reserved word in Python.)  Returned values range from 0 to\n",
      "     |      positive infinity if lambd is positive, and from negative\n",
      "     |      infinity to 0 if lambd is negative.\n",
      "     |  \n",
      "     |  gammavariate(self, alpha, beta)\n",
      "     |      Gamma distribution.  Not the gamma function!\n",
      "     |      \n",
      "     |      Conditions on the parameters are alpha > 0 and beta > 0.\n",
      "     |      \n",
      "     |      The probability distribution function is:\n",
      "     |      \n",
      "     |                  x ** (alpha - 1) * math.exp(-x / beta)\n",
      "     |        pdf(x) =  --------------------------------------\n",
      "     |                    math.gamma(alpha) * beta ** alpha\n",
      "     |  \n",
      "     |  gauss(self, mu, sigma)\n",
      "     |      Gaussian distribution.\n",
      "     |      \n",
      "     |      mu is the mean, and sigma is the standard deviation.  This is\n",
      "     |      slightly faster than the normalvariate() function.\n",
      "     |      \n",
      "     |      Not thread-safe without a lock around calls.\n",
      "     |  \n",
      "     |  lognormvariate(self, mu, sigma)\n",
      "     |      Log normal distribution.\n",
      "     |      \n",
      "     |      If you take the natural logarithm of this distribution, you'll get a\n",
      "     |      normal distribution with mean mu and standard deviation sigma.\n",
      "     |      mu can have any value, and sigma must be greater than zero.\n",
      "     |  \n",
      "     |  normalvariate(self, mu, sigma)\n",
      "     |      Normal distribution.\n",
      "     |      \n",
      "     |      mu is the mean, and sigma is the standard deviation.\n",
      "     |  \n",
      "     |  paretovariate(self, alpha)\n",
      "     |      Pareto distribution.  alpha is the shape parameter.\n",
      "     |  \n",
      "     |  randint(self, a, b)\n",
      "     |      Return random integer in range [a, b], including both end points.\n",
      "     |  \n",
      "     |  randrange(self, start, stop=None, step=1, _int=<class 'int'>)\n",
      "     |      Choose a random item from range(start, stop[, step]).\n",
      "     |      \n",
      "     |      This fixes the problem with randint() which includes the\n",
      "     |      endpoint; in Python this is usually not what you want.\n",
      "     |  \n",
      "     |  sample(self, population, k)\n",
      "     |      Chooses k unique random elements from a population sequence or set.\n",
      "     |      \n",
      "     |      Returns a new list containing elements from the population while\n",
      "     |      leaving the original population unchanged.  The resulting list is\n",
      "     |      in selection order so that all sub-slices will also be valid random\n",
      "     |      samples.  This allows raffle winners (the sample) to be partitioned\n",
      "     |      into grand prize and second place winners (the subslices).\n",
      "     |      \n",
      "     |      Members of the population need not be hashable or unique.  If the\n",
      "     |      population contains repeats, then each occurrence is a possible\n",
      "     |      selection in the sample.\n",
      "     |      \n",
      "     |      To choose a sample in a range of integers, use range as an argument.\n",
      "     |      This is especially fast and space efficient for sampling from a\n",
      "     |      large population:   sample(range(10000000), 60)\n",
      "     |  \n",
      "     |  shuffle(self, x, random=None)\n",
      "     |      Shuffle list x in place, and return None.\n",
      "     |      \n",
      "     |      Optional argument random is a 0-argument function returning a\n",
      "     |      random float in [0.0, 1.0); if it is the default None, the\n",
      "     |      standard random.random will be used.\n",
      "     |  \n",
      "     |  triangular(self, low=0.0, high=1.0, mode=None)\n",
      "     |      Triangular distribution.\n",
      "     |      \n",
      "     |      Continuous distribution bounded by given lower and upper limits,\n",
      "     |      and having a given mode value in-between.\n",
      "     |      \n",
      "     |      http://en.wikipedia.org/wiki/Triangular_distribution\n",
      "     |  \n",
      "     |  uniform(self, a, b)\n",
      "     |      Get a random number in the range [a, b) or [a, b] depending on rounding.\n",
      "     |  \n",
      "     |  vonmisesvariate(self, mu, kappa)\n",
      "     |      Circular data distribution.\n",
      "     |      \n",
      "     |      mu is the mean angle, expressed in radians between 0 and 2*pi, and\n",
      "     |      kappa is the concentration parameter, which must be greater than or\n",
      "     |      equal to zero.  If kappa is equal to zero, this distribution reduces\n",
      "     |      to a uniform random angle over the range 0 to 2*pi.\n",
      "     |  \n",
      "     |  weibullvariate(self, alpha, beta)\n",
      "     |      Weibull distribution.\n",
      "     |      \n",
      "     |      alpha is the scale parameter and beta is the shape parameter.\n",
      "     |  \n",
      "     |  ----------------------------------------------------------------------\n",
      "     |  Class methods inherited from Random:\n",
      "     |  \n",
      "     |  __init_subclass__(**kwargs) from builtins.type\n",
      "     |      Control how subclasses generate random integers.\n",
      "     |      \n",
      "     |      The algorithm a subclass can use depends on the random() and/or\n",
      "     |      getrandbits() implementation available to it and determines\n",
      "     |      whether it can generate random integers from arbitrarily large\n",
      "     |      ranges.\n",
      "     |  \n",
      "     |  ----------------------------------------------------------------------\n",
      "     |  Data descriptors inherited from Random:\n",
      "     |  \n",
      "     |  __dict__\n",
      "     |      dictionary for instance variables (if defined)\n",
      "     |  \n",
      "     |  __weakref__\n",
      "     |      list of weak references to the object (if defined)\n",
      "     |  \n",
      "     |  ----------------------------------------------------------------------\n",
      "     |  Data and other attributes inherited from Random:\n",
      "     |  \n",
      "     |  VERSION = 3\n",
      "     |  \n",
      "     |  ----------------------------------------------------------------------\n",
      "     |  Methods inherited from _random.Random:\n",
      "     |  \n",
      "     |  __getattribute__(self, name, /)\n",
      "     |      Return getattr(self, name).\n",
      "     |  \n",
      "     |  ----------------------------------------------------------------------\n",
      "     |  Static methods inherited from _random.Random:\n",
      "     |  \n",
      "     |  __new__(*args, **kwargs) from builtins.type\n",
      "     |      Create and return a new object.  See help(type) for accurate signature.\n",
      "\n",
      "FUNCTIONS\n",
      "    betavariate(alpha, beta) method of Random instance\n",
      "        Beta distribution.\n",
      "        \n",
      "        Conditions on the parameters are alpha > 0 and beta > 0.\n",
      "        Returned values range between 0 and 1.\n",
      "    \n",
      "    choice(seq) method of Random instance\n",
      "        Choose a random element from a non-empty sequence.\n",
      "    \n",
      "    choices(population, weights=None, *, cum_weights=None, k=1) method of Random instance\n",
      "        Return a k sized list of population elements chosen with replacement.\n",
      "        \n",
      "        If the relative weights or cumulative weights are not specified,\n",
      "        the selections are made with equal probability.\n",
      "    \n",
      "    expovariate(lambd) method of Random instance\n",
      "        Exponential distribution.\n",
      "        \n",
      "        lambd is 1.0 divided by the desired mean.  It should be\n",
      "        nonzero.  (The parameter would be called \"lambda\", but that is\n",
      "        a reserved word in Python.)  Returned values range from 0 to\n",
      "        positive infinity if lambd is positive, and from negative\n",
      "        infinity to 0 if lambd is negative.\n",
      "    \n",
      "    gammavariate(alpha, beta) method of Random instance\n",
      "        Gamma distribution.  Not the gamma function!\n",
      "        \n",
      "        Conditions on the parameters are alpha > 0 and beta > 0.\n",
      "        \n",
      "        The probability distribution function is:\n",
      "        \n",
      "                    x ** (alpha - 1) * math.exp(-x / beta)\n",
      "          pdf(x) =  --------------------------------------\n",
      "                      math.gamma(alpha) * beta ** alpha\n",
      "    \n",
      "    gauss(mu, sigma) method of Random instance\n",
      "        Gaussian distribution.\n",
      "        \n",
      "        mu is the mean, and sigma is the standard deviation.  This is\n",
      "        slightly faster than the normalvariate() function.\n",
      "        \n",
      "        Not thread-safe without a lock around calls.\n",
      "    \n",
      "    getrandbits(k, /) method of Random instance\n",
      "        getrandbits(k) -> x.  Generates an int with k random bits.\n",
      "    \n",
      "    getstate() method of Random instance\n",
      "        Return internal state; can be passed to setstate() later.\n",
      "    \n",
      "    lognormvariate(mu, sigma) method of Random instance\n",
      "        Log normal distribution.\n",
      "        \n",
      "        If you take the natural logarithm of this distribution, you'll get a\n",
      "        normal distribution with mean mu and standard deviation sigma.\n",
      "        mu can have any value, and sigma must be greater than zero.\n",
      "    \n",
      "    normalvariate(mu, sigma) method of Random instance\n",
      "        Normal distribution.\n",
      "        \n",
      "        mu is the mean, and sigma is the standard deviation.\n",
      "    \n",
      "    paretovariate(alpha) method of Random instance\n",
      "        Pareto distribution.  alpha is the shape parameter.\n",
      "    \n",
      "    randint(a, b) method of Random instance\n",
      "        Return random integer in range [a, b], including both end points.\n",
      "    \n",
      "    random() method of Random instance\n",
      "        random() -> x in the interval [0, 1).\n",
      "    \n",
      "    randrange(start, stop=None, step=1, _int=<class 'int'>) method of Random instance\n",
      "        Choose a random item from range(start, stop[, step]).\n",
      "        \n",
      "        This fixes the problem with randint() which includes the\n",
      "        endpoint; in Python this is usually not what you want.\n",
      "    \n",
      "    sample(population, k) method of Random instance\n",
      "        Chooses k unique random elements from a population sequence or set.\n",
      "        \n",
      "        Returns a new list containing elements from the population while\n",
      "        leaving the original population unchanged.  The resulting list is\n",
      "        in selection order so that all sub-slices will also be valid random\n",
      "        samples.  This allows raffle winners (the sample) to be partitioned\n",
      "        into grand prize and second place winners (the subslices).\n",
      "        \n",
      "        Members of the population need not be hashable or unique.  If the\n",
      "        population contains repeats, then each occurrence is a possible\n",
      "        selection in the sample.\n",
      "        \n",
      "        To choose a sample in a range of integers, use range as an argument.\n",
      "        This is especially fast and space efficient for sampling from a\n",
      "        large population:   sample(range(10000000), 60)\n",
      "    \n",
      "    seed(a=None, version=2) method of Random instance\n",
      "        Initialize internal state from hashable object.\n",
      "        \n",
      "        None or no argument seeds from current time or from an operating\n",
      "        system specific randomness source if available.\n",
      "        \n",
      "        If *a* is an int, all bits are used.\n",
      "        \n",
      "        For version 2 (the default), all of the bits are used if *a* is a str,\n",
      "        bytes, or bytearray.  For version 1 (provided for reproducing random\n",
      "        sequences from older versions of Python), the algorithm for str and\n",
      "        bytes generates a narrower range of seeds.\n",
      "    \n",
      "    setstate(state) method of Random instance\n",
      "        Restore internal state from object returned by getstate().\n",
      "    \n",
      "    shuffle(x, random=None) method of Random instance\n",
      "        Shuffle list x in place, and return None.\n",
      "        \n",
      "        Optional argument random is a 0-argument function returning a\n",
      "        random float in [0.0, 1.0); if it is the default None, the\n",
      "        standard random.random will be used.\n",
      "    \n",
      "    triangular(low=0.0, high=1.0, mode=None) method of Random instance\n",
      "        Triangular distribution.\n",
      "        \n",
      "        Continuous distribution bounded by given lower and upper limits,\n",
      "        and having a given mode value in-between.\n",
      "        \n",
      "        http://en.wikipedia.org/wiki/Triangular_distribution\n",
      "    \n",
      "    uniform(a, b) method of Random instance\n",
      "        Get a random number in the range [a, b) or [a, b] depending on rounding.\n",
      "    \n",
      "    vonmisesvariate(mu, kappa) method of Random instance\n",
      "        Circular data distribution.\n",
      "        \n",
      "        mu is the mean angle, expressed in radians between 0 and 2*pi, and\n",
      "        kappa is the concentration parameter, which must be greater than or\n",
      "        equal to zero.  If kappa is equal to zero, this distribution reduces\n",
      "        to a uniform random angle over the range 0 to 2*pi.\n",
      "    \n",
      "    weibullvariate(alpha, beta) method of Random instance\n",
      "        Weibull distribution.\n",
      "        \n",
      "        alpha is the scale parameter and beta is the shape parameter.\n",
      "\n",
      "DATA\n",
      "    __all__ = ['Random', 'seed', 'random', 'uniform', 'randint', 'choice',...\n",
      "\n",
      "FILE\n",
      "    c:\\users\\nadmy711\\anaconda3\\lib\\random.py\n",
      "\n",
      "\n"
     ]
    }
   ],
   "source": [
    "import random\n",
    "help(random)"
   ]
  },
  {
   "cell_type": "code",
   "execution_count": 59,
   "id": "84a4974a-ff42-420e-b2ba-55a5f84ee202",
   "metadata": {},
   "outputs": [
    {
     "data": {
      "text/plain": [
       "'T'"
      ]
     },
     "execution_count": 59,
     "metadata": {},
     "output_type": "execute_result"
    }
   ],
   "source": [
    "bases = 'ACTGCTTGAC'\n",
    "random.choice(bases)"
   ]
  },
  {
   "cell_type": "code",
   "execution_count": 84,
   "id": "41880dc7-969f-46ec-8f00-08e5ae034fe6",
   "metadata": {},
   "outputs": [
    {
     "name": "stdout",
     "output_type": "stream",
     "text": [
      "random base T base index 2\n"
     ]
    }
   ],
   "source": [
    "import math\n",
    "import random\n",
    "bases = 'ACTTGCTTGAC'\n",
    "n_bases=len(bases)\n",
    "choice=random.randrange(n_bases)\n",
    "print('random base', bases[choice], 'base index', choice)"
   ]
  },
  {
   "cell_type": "code",
   "execution_count": 85,
   "id": "c180db93-2585-4d1a-8efe-7ad85f2a4566",
   "metadata": {},
   "outputs": [],
   "source": [
    "from random import randrange as randomrange"
   ]
  },
  {
   "cell_type": "code",
   "execution_count": 86,
   "id": "04c9c0a6-8b03-4fef-a3e8-2c52d8f6bc11",
   "metadata": {},
   "outputs": [
    {
     "name": "stdout",
     "output_type": "stream",
     "text": [
      "4\n"
     ]
    }
   ],
   "source": [
    "random_position = randomrange(n_bases)\n",
    "print(random_position)"
   ]
  },
  {
   "cell_type": "code",
   "execution_count": 87,
   "id": "ef574f46-a45d-4cff-bbda-b7b77e2e219d",
   "metadata": {},
   "outputs": [
    {
     "data": {
      "text/html": [
       "<div>\n",
       "<style scoped>\n",
       "    .dataframe tbody tr th:only-of-type {\n",
       "        vertical-align: middle;\n",
       "    }\n",
       "\n",
       "    .dataframe tbody tr th {\n",
       "        vertical-align: top;\n",
       "    }\n",
       "\n",
       "    .dataframe thead th {\n",
       "        text-align: right;\n",
       "    }\n",
       "</style>\n",
       "<table border=\"1\" class=\"dataframe\">\n",
       "  <thead>\n",
       "    <tr style=\"text-align: right;\">\n",
       "      <th></th>\n",
       "      <th>DisProt entry ID</th>\n",
       "      <th>UniProt ACC</th>\n",
       "      <th>Start</th>\n",
       "      <th>End</th>\n",
       "      <th>Reference</th>\n",
       "      <th>Length</th>\n",
       "    </tr>\n",
       "  </thead>\n",
       "  <tbody>\n",
       "    <tr>\n",
       "      <th>0</th>\n",
       "      <td>DP00613</td>\n",
       "      <td>Q22472</td>\n",
       "      <td>1</td>\n",
       "      <td>378</td>\n",
       "      <td>pmid:19899809</td>\n",
       "      <td>378</td>\n",
       "    </tr>\n",
       "    <tr>\n",
       "      <th>1</th>\n",
       "      <td>DP00868</td>\n",
       "      <td>Q9NHC3</td>\n",
       "      <td>102</td>\n",
       "      <td>117</td>\n",
       "      <td>pmid:21616056</td>\n",
       "      <td>279</td>\n",
       "    </tr>\n",
       "    <tr>\n",
       "      <th>2</th>\n",
       "      <td>DP01090</td>\n",
       "      <td>G4SLH0</td>\n",
       "      <td>3546</td>\n",
       "      <td>3795</td>\n",
       "      <td>pmid:20346955</td>\n",
       "      <td>18562</td>\n",
       "    </tr>\n",
       "    <tr>\n",
       "      <th>3</th>\n",
       "      <td>DP01113</td>\n",
       "      <td>D0PV95</td>\n",
       "      <td>1</td>\n",
       "      <td>168</td>\n",
       "      <td>pmid:26015579</td>\n",
       "      <td>708</td>\n",
       "    </tr>\n",
       "    <tr>\n",
       "      <th>4</th>\n",
       "      <td>DP01313</td>\n",
       "      <td>Q9N4U5</td>\n",
       "      <td>163</td>\n",
       "      <td>223</td>\n",
       "      <td>pmid:27150041</td>\n",
       "      <td>547</td>\n",
       "    </tr>\n",
       "    <tr>\n",
       "      <th>5</th>\n",
       "      <td>DP01407</td>\n",
       "      <td>O61667</td>\n",
       "      <td>93</td>\n",
       "      <td>106</td>\n",
       "      <td>pmid:15383288</td>\n",
       "      <td>106</td>\n",
       "    </tr>\n",
       "    <tr>\n",
       "      <th>6</th>\n",
       "      <td>DP01436</td>\n",
       "      <td>P54936</td>\n",
       "      <td>423</td>\n",
       "      <td>487</td>\n",
       "      <td>pmid:12110687</td>\n",
       "      <td>961</td>\n",
       "    </tr>\n",
       "    <tr>\n",
       "      <th>7</th>\n",
       "      <td>DP01437</td>\n",
       "      <td>P90976</td>\n",
       "      <td>115</td>\n",
       "      <td>180</td>\n",
       "      <td>pmid:12110687</td>\n",
       "      <td>297</td>\n",
       "    </tr>\n",
       "    <tr>\n",
       "      <th>8</th>\n",
       "      <td>DP01558</td>\n",
       "      <td>Q9XTY3</td>\n",
       "      <td>17</td>\n",
       "      <td>211</td>\n",
       "      <td>pmid:22947085</td>\n",
       "      <td>211</td>\n",
       "    </tr>\n",
       "    <tr>\n",
       "      <th>9</th>\n",
       "      <td>DP01973</td>\n",
       "      <td>Q09514</td>\n",
       "      <td>1</td>\n",
       "      <td>18</td>\n",
       "      <td>pmid:26621324</td>\n",
       "      <td>266</td>\n",
       "    </tr>\n",
       "    <tr>\n",
       "      <th>10</th>\n",
       "      <td>DP02025</td>\n",
       "      <td>P30429</td>\n",
       "      <td>1</td>\n",
       "      <td>105</td>\n",
       "      <td>pmid:16208361</td>\n",
       "      <td>571</td>\n",
       "    </tr>\n",
       "    <tr>\n",
       "      <th>11</th>\n",
       "      <td>DP02216</td>\n",
       "      <td>Q9U3S5</td>\n",
       "      <td>1</td>\n",
       "      <td>100</td>\n",
       "      <td>pmid:30036386</td>\n",
       "      <td>1050</td>\n",
       "    </tr>\n",
       "    <tr>\n",
       "      <th>12</th>\n",
       "      <td>DP02313</td>\n",
       "      <td>Q8IG33</td>\n",
       "      <td>18</td>\n",
       "      <td>88</td>\n",
       "      <td>pmid:21397184</td>\n",
       "      <td>186</td>\n",
       "    </tr>\n",
       "  </tbody>\n",
       "</table>\n",
       "</div>"
      ],
      "text/plain": [
       "   DisProt entry ID UniProt ACC  Start   End      Reference  Length\n",
       "0           DP00613      Q22472      1   378  pmid:19899809     378\n",
       "1           DP00868      Q9NHC3    102   117  pmid:21616056     279\n",
       "2           DP01090      G4SLH0   3546  3795  pmid:20346955   18562\n",
       "3           DP01113      D0PV95      1   168  pmid:26015579     708\n",
       "4           DP01313      Q9N4U5    163   223  pmid:27150041     547\n",
       "5           DP01407      O61667     93   106  pmid:15383288     106\n",
       "6           DP01436      P54936    423   487  pmid:12110687     961\n",
       "7           DP01437      P90976    115   180  pmid:12110687     297\n",
       "8           DP01558      Q9XTY3     17   211  pmid:22947085     211\n",
       "9           DP01973      Q09514      1    18  pmid:26621324     266\n",
       "10          DP02025      P30429      1   105  pmid:16208361     571\n",
       "11          DP02216      Q9U3S5      1   100  pmid:30036386    1050\n",
       "12          DP02313      Q8IG33     18    88  pmid:21397184     186"
      ]
     },
     "execution_count": 87,
     "metadata": {},
     "output_type": "execute_result"
    }
   ],
   "source": [
    "import pandas as pd\n",
    "data = pd.read_csv('data/DisProt_data_Caenorhabditis-elegans.csv')\n",
    "data"
   ]
  },
  {
   "cell_type": "code",
   "execution_count": 88,
   "id": "af976a40-3090-4c3a-9a7b-ea24d995ae08",
   "metadata": {},
   "outputs": [
    {
     "data": {
      "text/html": [
       "<div>\n",
       "<style scoped>\n",
       "    .dataframe tbody tr th:only-of-type {\n",
       "        vertical-align: middle;\n",
       "    }\n",
       "\n",
       "    .dataframe tbody tr th {\n",
       "        vertical-align: top;\n",
       "    }\n",
       "\n",
       "    .dataframe thead th {\n",
       "        text-align: right;\n",
       "    }\n",
       "</style>\n",
       "<table border=\"1\" class=\"dataframe\">\n",
       "  <thead>\n",
       "    <tr style=\"text-align: right;\">\n",
       "      <th></th>\n",
       "      <th>UniProt ACC</th>\n",
       "      <th>Start</th>\n",
       "      <th>End</th>\n",
       "      <th>Reference</th>\n",
       "      <th>Length</th>\n",
       "    </tr>\n",
       "    <tr>\n",
       "      <th>DisProt entry ID</th>\n",
       "      <th></th>\n",
       "      <th></th>\n",
       "      <th></th>\n",
       "      <th></th>\n",
       "      <th></th>\n",
       "    </tr>\n",
       "  </thead>\n",
       "  <tbody>\n",
       "    <tr>\n",
       "      <th>DP00613</th>\n",
       "      <td>Q22472</td>\n",
       "      <td>1</td>\n",
       "      <td>378</td>\n",
       "      <td>pmid:19899809</td>\n",
       "      <td>378</td>\n",
       "    </tr>\n",
       "    <tr>\n",
       "      <th>DP00868</th>\n",
       "      <td>Q9NHC3</td>\n",
       "      <td>102</td>\n",
       "      <td>117</td>\n",
       "      <td>pmid:21616056</td>\n",
       "      <td>279</td>\n",
       "    </tr>\n",
       "    <tr>\n",
       "      <th>DP01090</th>\n",
       "      <td>G4SLH0</td>\n",
       "      <td>3546</td>\n",
       "      <td>3795</td>\n",
       "      <td>pmid:20346955</td>\n",
       "      <td>18562</td>\n",
       "    </tr>\n",
       "    <tr>\n",
       "      <th>DP01113</th>\n",
       "      <td>D0PV95</td>\n",
       "      <td>1</td>\n",
       "      <td>168</td>\n",
       "      <td>pmid:26015579</td>\n",
       "      <td>708</td>\n",
       "    </tr>\n",
       "    <tr>\n",
       "      <th>DP01313</th>\n",
       "      <td>Q9N4U5</td>\n",
       "      <td>163</td>\n",
       "      <td>223</td>\n",
       "      <td>pmid:27150041</td>\n",
       "      <td>547</td>\n",
       "    </tr>\n",
       "    <tr>\n",
       "      <th>DP01407</th>\n",
       "      <td>O61667</td>\n",
       "      <td>93</td>\n",
       "      <td>106</td>\n",
       "      <td>pmid:15383288</td>\n",
       "      <td>106</td>\n",
       "    </tr>\n",
       "    <tr>\n",
       "      <th>DP01436</th>\n",
       "      <td>P54936</td>\n",
       "      <td>423</td>\n",
       "      <td>487</td>\n",
       "      <td>pmid:12110687</td>\n",
       "      <td>961</td>\n",
       "    </tr>\n",
       "    <tr>\n",
       "      <th>DP01437</th>\n",
       "      <td>P90976</td>\n",
       "      <td>115</td>\n",
       "      <td>180</td>\n",
       "      <td>pmid:12110687</td>\n",
       "      <td>297</td>\n",
       "    </tr>\n",
       "    <tr>\n",
       "      <th>DP01558</th>\n",
       "      <td>Q9XTY3</td>\n",
       "      <td>17</td>\n",
       "      <td>211</td>\n",
       "      <td>pmid:22947085</td>\n",
       "      <td>211</td>\n",
       "    </tr>\n",
       "    <tr>\n",
       "      <th>DP01973</th>\n",
       "      <td>Q09514</td>\n",
       "      <td>1</td>\n",
       "      <td>18</td>\n",
       "      <td>pmid:26621324</td>\n",
       "      <td>266</td>\n",
       "    </tr>\n",
       "    <tr>\n",
       "      <th>DP02025</th>\n",
       "      <td>P30429</td>\n",
       "      <td>1</td>\n",
       "      <td>105</td>\n",
       "      <td>pmid:16208361</td>\n",
       "      <td>571</td>\n",
       "    </tr>\n",
       "    <tr>\n",
       "      <th>DP02216</th>\n",
       "      <td>Q9U3S5</td>\n",
       "      <td>1</td>\n",
       "      <td>100</td>\n",
       "      <td>pmid:30036386</td>\n",
       "      <td>1050</td>\n",
       "    </tr>\n",
       "    <tr>\n",
       "      <th>DP02313</th>\n",
       "      <td>Q8IG33</td>\n",
       "      <td>18</td>\n",
       "      <td>88</td>\n",
       "      <td>pmid:21397184</td>\n",
       "      <td>186</td>\n",
       "    </tr>\n",
       "  </tbody>\n",
       "</table>\n",
       "</div>"
      ],
      "text/plain": [
       "                 UniProt ACC  Start   End      Reference  Length\n",
       "DisProt entry ID                                                \n",
       "DP00613               Q22472      1   378  pmid:19899809     378\n",
       "DP00868               Q9NHC3    102   117  pmid:21616056     279\n",
       "DP01090               G4SLH0   3546  3795  pmid:20346955   18562\n",
       "DP01113               D0PV95      1   168  pmid:26015579     708\n",
       "DP01313               Q9N4U5    163   223  pmid:27150041     547\n",
       "DP01407               O61667     93   106  pmid:15383288     106\n",
       "DP01436               P54936    423   487  pmid:12110687     961\n",
       "DP01437               P90976    115   180  pmid:12110687     297\n",
       "DP01558               Q9XTY3     17   211  pmid:22947085     211\n",
       "DP01973               Q09514      1    18  pmid:26621324     266\n",
       "DP02025               P30429      1   105  pmid:16208361     571\n",
       "DP02216               Q9U3S5      1   100  pmid:30036386    1050\n",
       "DP02313               Q8IG33     18    88  pmid:21397184     186"
      ]
     },
     "execution_count": 88,
     "metadata": {},
     "output_type": "execute_result"
    }
   ],
   "source": [
    "data = pd.read_csv('data/DisProt_data_Caenorhabditis-elegans.csv', index_col='DisProt entry ID')\n",
    "data"
   ]
  },
  {
   "cell_type": "code",
   "execution_count": 89,
   "id": "0eb0490d-49b1-4dc8-8e2f-00ef40c8b6ec",
   "metadata": {},
   "outputs": [
    {
     "name": "stdout",
     "output_type": "stream",
     "text": [
      "<class 'pandas.core.frame.DataFrame'>\n",
      "Index: 13 entries, DP00613 to DP02313\n",
      "Data columns (total 5 columns):\n",
      " #   Column       Non-Null Count  Dtype \n",
      "---  ------       --------------  ----- \n",
      " 0   UniProt ACC  13 non-null     object\n",
      " 1   Start        13 non-null     int64 \n",
      " 2   End          13 non-null     int64 \n",
      " 3   Reference    13 non-null     object\n",
      " 4   Length       13 non-null     int64 \n",
      "dtypes: int64(3), object(2)\n",
      "memory usage: 624.0+ bytes\n"
     ]
    }
   ],
   "source": [
    "data.info()"
   ]
  },
  {
   "cell_type": "code",
   "execution_count": 90,
   "id": "8d187027-c779-4e99-bb39-1bf5e5687300",
   "metadata": {},
   "outputs": [
    {
     "data": {
      "text/plain": [
       "Index(['UniProt ACC', 'Start', 'End', 'Reference', 'Length'], dtype='object')"
      ]
     },
     "execution_count": 90,
     "metadata": {},
     "output_type": "execute_result"
    }
   ],
   "source": [
    "data.columns"
   ]
  },
  {
   "cell_type": "code",
   "execution_count": 91,
   "id": "30b2d5a0-f193-42a4-adf2-c271fa52b379",
   "metadata": {},
   "outputs": [
    {
     "data": {
      "text/html": [
       "<div>\n",
       "<style scoped>\n",
       "    .dataframe tbody tr th:only-of-type {\n",
       "        vertical-align: middle;\n",
       "    }\n",
       "\n",
       "    .dataframe tbody tr th {\n",
       "        vertical-align: top;\n",
       "    }\n",
       "\n",
       "    .dataframe thead th {\n",
       "        text-align: right;\n",
       "    }\n",
       "</style>\n",
       "<table border=\"1\" class=\"dataframe\">\n",
       "  <thead>\n",
       "    <tr style=\"text-align: right;\">\n",
       "      <th>DisProt entry ID</th>\n",
       "      <th>DP00613</th>\n",
       "      <th>DP00868</th>\n",
       "      <th>DP01090</th>\n",
       "      <th>DP01113</th>\n",
       "      <th>DP01313</th>\n",
       "      <th>DP01407</th>\n",
       "      <th>DP01436</th>\n",
       "      <th>DP01437</th>\n",
       "      <th>DP01558</th>\n",
       "      <th>DP01973</th>\n",
       "      <th>DP02025</th>\n",
       "      <th>DP02216</th>\n",
       "      <th>DP02313</th>\n",
       "    </tr>\n",
       "  </thead>\n",
       "  <tbody>\n",
       "    <tr>\n",
       "      <th>UniProt ACC</th>\n",
       "      <td>Q22472</td>\n",
       "      <td>Q9NHC3</td>\n",
       "      <td>G4SLH0</td>\n",
       "      <td>D0PV95</td>\n",
       "      <td>Q9N4U5</td>\n",
       "      <td>O61667</td>\n",
       "      <td>P54936</td>\n",
       "      <td>P90976</td>\n",
       "      <td>Q9XTY3</td>\n",
       "      <td>Q09514</td>\n",
       "      <td>P30429</td>\n",
       "      <td>Q9U3S5</td>\n",
       "      <td>Q8IG33</td>\n",
       "    </tr>\n",
       "    <tr>\n",
       "      <th>Start</th>\n",
       "      <td>1</td>\n",
       "      <td>102</td>\n",
       "      <td>3546</td>\n",
       "      <td>1</td>\n",
       "      <td>163</td>\n",
       "      <td>93</td>\n",
       "      <td>423</td>\n",
       "      <td>115</td>\n",
       "      <td>17</td>\n",
       "      <td>1</td>\n",
       "      <td>1</td>\n",
       "      <td>1</td>\n",
       "      <td>18</td>\n",
       "    </tr>\n",
       "    <tr>\n",
       "      <th>End</th>\n",
       "      <td>378</td>\n",
       "      <td>117</td>\n",
       "      <td>3795</td>\n",
       "      <td>168</td>\n",
       "      <td>223</td>\n",
       "      <td>106</td>\n",
       "      <td>487</td>\n",
       "      <td>180</td>\n",
       "      <td>211</td>\n",
       "      <td>18</td>\n",
       "      <td>105</td>\n",
       "      <td>100</td>\n",
       "      <td>88</td>\n",
       "    </tr>\n",
       "    <tr>\n",
       "      <th>Reference</th>\n",
       "      <td>pmid:19899809</td>\n",
       "      <td>pmid:21616056</td>\n",
       "      <td>pmid:20346955</td>\n",
       "      <td>pmid:26015579</td>\n",
       "      <td>pmid:27150041</td>\n",
       "      <td>pmid:15383288</td>\n",
       "      <td>pmid:12110687</td>\n",
       "      <td>pmid:12110687</td>\n",
       "      <td>pmid:22947085</td>\n",
       "      <td>pmid:26621324</td>\n",
       "      <td>pmid:16208361</td>\n",
       "      <td>pmid:30036386</td>\n",
       "      <td>pmid:21397184</td>\n",
       "    </tr>\n",
       "    <tr>\n",
       "      <th>Length</th>\n",
       "      <td>378</td>\n",
       "      <td>279</td>\n",
       "      <td>18562</td>\n",
       "      <td>708</td>\n",
       "      <td>547</td>\n",
       "      <td>106</td>\n",
       "      <td>961</td>\n",
       "      <td>297</td>\n",
       "      <td>211</td>\n",
       "      <td>266</td>\n",
       "      <td>571</td>\n",
       "      <td>1050</td>\n",
       "      <td>186</td>\n",
       "    </tr>\n",
       "  </tbody>\n",
       "</table>\n",
       "</div>"
      ],
      "text/plain": [
       "DisProt entry ID        DP00613        DP00868        DP01090        DP01113  \\\n",
       "UniProt ACC              Q22472         Q9NHC3         G4SLH0         D0PV95   \n",
       "Start                         1            102           3546              1   \n",
       "End                         378            117           3795            168   \n",
       "Reference         pmid:19899809  pmid:21616056  pmid:20346955  pmid:26015579   \n",
       "Length                      378            279          18562            708   \n",
       "\n",
       "DisProt entry ID        DP01313        DP01407        DP01436        DP01437  \\\n",
       "UniProt ACC              Q9N4U5         O61667         P54936         P90976   \n",
       "Start                       163             93            423            115   \n",
       "End                         223            106            487            180   \n",
       "Reference         pmid:27150041  pmid:15383288  pmid:12110687  pmid:12110687   \n",
       "Length                      547            106            961            297   \n",
       "\n",
       "DisProt entry ID        DP01558        DP01973        DP02025        DP02216  \\\n",
       "UniProt ACC              Q9XTY3         Q09514         P30429         Q9U3S5   \n",
       "Start                        17              1              1              1   \n",
       "End                         211             18            105            100   \n",
       "Reference         pmid:22947085  pmid:26621324  pmid:16208361  pmid:30036386   \n",
       "Length                      211            266            571           1050   \n",
       "\n",
       "DisProt entry ID        DP02313  \n",
       "UniProt ACC              Q8IG33  \n",
       "Start                        18  \n",
       "End                          88  \n",
       "Reference         pmid:21397184  \n",
       "Length                      186  "
      ]
     },
     "execution_count": 91,
     "metadata": {},
     "output_type": "execute_result"
    }
   ],
   "source": [
    "data.T"
   ]
  },
  {
   "cell_type": "code",
   "execution_count": 92,
   "id": "3470d06c-f924-4ea6-bbcd-8e99d868f855",
   "metadata": {},
   "outputs": [
    {
     "data": {
      "text/html": [
       "<div>\n",
       "<style scoped>\n",
       "    .dataframe tbody tr th:only-of-type {\n",
       "        vertical-align: middle;\n",
       "    }\n",
       "\n",
       "    .dataframe tbody tr th {\n",
       "        vertical-align: top;\n",
       "    }\n",
       "\n",
       "    .dataframe thead th {\n",
       "        text-align: right;\n",
       "    }\n",
       "</style>\n",
       "<table border=\"1\" class=\"dataframe\">\n",
       "  <thead>\n",
       "    <tr style=\"text-align: right;\">\n",
       "      <th></th>\n",
       "      <th>Start</th>\n",
       "      <th>End</th>\n",
       "      <th>Length</th>\n",
       "    </tr>\n",
       "  </thead>\n",
       "  <tbody>\n",
       "    <tr>\n",
       "      <th>count</th>\n",
       "      <td>13.000000</td>\n",
       "      <td>13.000000</td>\n",
       "      <td>13.000000</td>\n",
       "    </tr>\n",
       "    <tr>\n",
       "      <th>mean</th>\n",
       "      <td>344.769231</td>\n",
       "      <td>459.692308</td>\n",
       "      <td>1855.538462</td>\n",
       "    </tr>\n",
       "    <tr>\n",
       "      <th>std</th>\n",
       "      <td>968.988059</td>\n",
       "      <td>1010.109267</td>\n",
       "      <td>5028.345679</td>\n",
       "    </tr>\n",
       "    <tr>\n",
       "      <th>min</th>\n",
       "      <td>1.000000</td>\n",
       "      <td>18.000000</td>\n",
       "      <td>106.000000</td>\n",
       "    </tr>\n",
       "    <tr>\n",
       "      <th>25%</th>\n",
       "      <td>1.000000</td>\n",
       "      <td>105.000000</td>\n",
       "      <td>266.000000</td>\n",
       "    </tr>\n",
       "    <tr>\n",
       "      <th>50%</th>\n",
       "      <td>18.000000</td>\n",
       "      <td>168.000000</td>\n",
       "      <td>378.000000</td>\n",
       "    </tr>\n",
       "    <tr>\n",
       "      <th>75%</th>\n",
       "      <td>115.000000</td>\n",
       "      <td>223.000000</td>\n",
       "      <td>708.000000</td>\n",
       "    </tr>\n",
       "    <tr>\n",
       "      <th>max</th>\n",
       "      <td>3546.000000</td>\n",
       "      <td>3795.000000</td>\n",
       "      <td>18562.000000</td>\n",
       "    </tr>\n",
       "  </tbody>\n",
       "</table>\n",
       "</div>"
      ],
      "text/plain": [
       "             Start          End        Length\n",
       "count    13.000000    13.000000     13.000000\n",
       "mean    344.769231   459.692308   1855.538462\n",
       "std     968.988059  1010.109267   5028.345679\n",
       "min       1.000000    18.000000    106.000000\n",
       "25%       1.000000   105.000000    266.000000\n",
       "50%      18.000000   168.000000    378.000000\n",
       "75%     115.000000   223.000000    708.000000\n",
       "max    3546.000000  3795.000000  18562.000000"
      ]
     },
     "execution_count": 92,
     "metadata": {},
     "output_type": "execute_result"
    }
   ],
   "source": [
    "data.describe()"
   ]
  },
  {
   "cell_type": "code",
   "execution_count": 93,
   "id": "e20f0d1a-836b-4039-b481-cf56b26b3544",
   "metadata": {},
   "outputs": [
    {
     "data": {
      "text/html": [
       "<div>\n",
       "<style scoped>\n",
       "    .dataframe tbody tr th:only-of-type {\n",
       "        vertical-align: middle;\n",
       "    }\n",
       "\n",
       "    .dataframe tbody tr th {\n",
       "        vertical-align: top;\n",
       "    }\n",
       "\n",
       "    .dataframe thead th {\n",
       "        text-align: right;\n",
       "    }\n",
       "</style>\n",
       "<table border=\"1\" class=\"dataframe\">\n",
       "  <thead>\n",
       "    <tr style=\"text-align: right;\">\n",
       "      <th></th>\n",
       "      <th>DisProt entry ID</th>\n",
       "      <th>UniProt ACC</th>\n",
       "      <th>Start</th>\n",
       "      <th>End</th>\n",
       "      <th>Reference</th>\n",
       "      <th>Length</th>\n",
       "    </tr>\n",
       "  </thead>\n",
       "  <tbody>\n",
       "    <tr>\n",
       "      <th>0</th>\n",
       "      <td>DP00342</td>\n",
       "      <td>P09883</td>\n",
       "      <td>1</td>\n",
       "      <td>83</td>\n",
       "      <td>pmid:12054823</td>\n",
       "      <td>582</td>\n",
       "    </tr>\n",
       "    <tr>\n",
       "      <th>1</th>\n",
       "      <td>DP00389</td>\n",
       "      <td>P09983</td>\n",
       "      <td>962</td>\n",
       "      <td>1023</td>\n",
       "      <td>pmid:7703231</td>\n",
       "      <td>1023</td>\n",
       "    </tr>\n",
       "    <tr>\n",
       "      <th>2</th>\n",
       "      <td>DP00461</td>\n",
       "      <td>P08083</td>\n",
       "      <td>67</td>\n",
       "      <td>90</td>\n",
       "      <td>pmid:9687368</td>\n",
       "      <td>387</td>\n",
       "    </tr>\n",
       "    <tr>\n",
       "      <th>3</th>\n",
       "      <td>DP00575</td>\n",
       "      <td>P77072</td>\n",
       "      <td>1</td>\n",
       "      <td>20</td>\n",
       "      <td>pmid:15222745</td>\n",
       "      <td>212</td>\n",
       "    </tr>\n",
       "    <tr>\n",
       "      <th>4</th>\n",
       "      <td>DP00656</td>\n",
       "      <td>P07674</td>\n",
       "      <td>1</td>\n",
       "      <td>64</td>\n",
       "      <td>pmid:20200158</td>\n",
       "      <td>358</td>\n",
       "    </tr>\n",
       "    <tr>\n",
       "      <th>5</th>\n",
       "      <td>DP00833</td>\n",
       "      <td>P22995</td>\n",
       "      <td>58</td>\n",
       "      <td>83</td>\n",
       "      <td>pmid:11743881</td>\n",
       "      <td>83</td>\n",
       "    </tr>\n",
       "    <tr>\n",
       "      <th>6</th>\n",
       "      <td>DP01201</td>\n",
       "      <td>Q47184</td>\n",
       "      <td>1</td>\n",
       "      <td>30</td>\n",
       "      <td>pmid:15943811</td>\n",
       "      <td>192</td>\n",
       "    </tr>\n",
       "  </tbody>\n",
       "</table>\n",
       "</div>"
      ],
      "text/plain": [
       "  DisProt entry ID UniProt ACC  Start   End      Reference  Length\n",
       "0          DP00342      P09883      1    83  pmid:12054823     582\n",
       "1          DP00389      P09983    962  1023   pmid:7703231    1023\n",
       "2          DP00461      P08083     67    90   pmid:9687368     387\n",
       "3          DP00575      P77072      1    20  pmid:15222745     212\n",
       "4          DP00656      P07674      1    64  pmid:20200158     358\n",
       "5          DP00833      P22995     58    83  pmid:11743881      83\n",
       "6          DP01201      Q47184      1    30  pmid:15943811     192"
      ]
     },
     "execution_count": 93,
     "metadata": {},
     "output_type": "execute_result"
    }
   ],
   "source": [
    "data = pd.read_csv('data/DisProt_data_Escherichia-coli.csv')\n",
    "data"
   ]
  },
  {
   "cell_type": "code",
   "execution_count": 94,
   "id": "2c5c84f0-b627-4d54-b897-29eb653375f3",
   "metadata": {},
   "outputs": [
    {
     "ename": "NameError",
     "evalue": "name 'coli' is not defined",
     "output_type": "error",
     "traceback": [
      "\u001b[1;31m---------------------------------------------------------------------------\u001b[0m",
      "\u001b[1;31mNameError\u001b[0m                                 Traceback (most recent call last)",
      "\u001b[1;32m<ipython-input-94-cfe4c53ba249>\u001b[0m in \u001b[0;36m<module>\u001b[1;34m\u001b[0m\n\u001b[1;32m----> 1\u001b[1;33m \u001b[0mcoli\u001b[0m\u001b[1;33m\u001b[0m\u001b[1;33m\u001b[0m\u001b[0m\n\u001b[0m",
      "\u001b[1;31mNameError\u001b[0m: name 'coli' is not defined"
     ]
    }
   ],
   "source": [
    "coli"
   ]
  },
  {
   "cell_type": "code",
   "execution_count": 95,
   "id": "8ddda210-46c7-4067-9c0e-3bfb5702264f",
   "metadata": {},
   "outputs": [],
   "source": [
    "coli= pd.read_csv('data/DisProt_data_Escherichia-coli.csv')"
   ]
  },
  {
   "cell_type": "code",
   "execution_count": 96,
   "id": "065f812e-dcd5-436d-a5da-d541587260bb",
   "metadata": {},
   "outputs": [
    {
     "data": {
      "text/html": [
       "<div>\n",
       "<style scoped>\n",
       "    .dataframe tbody tr th:only-of-type {\n",
       "        vertical-align: middle;\n",
       "    }\n",
       "\n",
       "    .dataframe tbody tr th {\n",
       "        vertical-align: top;\n",
       "    }\n",
       "\n",
       "    .dataframe thead th {\n",
       "        text-align: right;\n",
       "    }\n",
       "</style>\n",
       "<table border=\"1\" class=\"dataframe\">\n",
       "  <thead>\n",
       "    <tr style=\"text-align: right;\">\n",
       "      <th></th>\n",
       "      <th>DisProt entry ID</th>\n",
       "      <th>UniProt ACC</th>\n",
       "      <th>Start</th>\n",
       "      <th>End</th>\n",
       "      <th>Reference</th>\n",
       "      <th>Length</th>\n",
       "    </tr>\n",
       "  </thead>\n",
       "  <tbody>\n",
       "    <tr>\n",
       "      <th>0</th>\n",
       "      <td>DP00342</td>\n",
       "      <td>P09883</td>\n",
       "      <td>1</td>\n",
       "      <td>83</td>\n",
       "      <td>pmid:12054823</td>\n",
       "      <td>582</td>\n",
       "    </tr>\n",
       "    <tr>\n",
       "      <th>1</th>\n",
       "      <td>DP00389</td>\n",
       "      <td>P09983</td>\n",
       "      <td>962</td>\n",
       "      <td>1023</td>\n",
       "      <td>pmid:7703231</td>\n",
       "      <td>1023</td>\n",
       "    </tr>\n",
       "    <tr>\n",
       "      <th>2</th>\n",
       "      <td>DP00461</td>\n",
       "      <td>P08083</td>\n",
       "      <td>67</td>\n",
       "      <td>90</td>\n",
       "      <td>pmid:9687368</td>\n",
       "      <td>387</td>\n",
       "    </tr>\n",
       "    <tr>\n",
       "      <th>3</th>\n",
       "      <td>DP00575</td>\n",
       "      <td>P77072</td>\n",
       "      <td>1</td>\n",
       "      <td>20</td>\n",
       "      <td>pmid:15222745</td>\n",
       "      <td>212</td>\n",
       "    </tr>\n",
       "    <tr>\n",
       "      <th>4</th>\n",
       "      <td>DP00656</td>\n",
       "      <td>P07674</td>\n",
       "      <td>1</td>\n",
       "      <td>64</td>\n",
       "      <td>pmid:20200158</td>\n",
       "      <td>358</td>\n",
       "    </tr>\n",
       "    <tr>\n",
       "      <th>5</th>\n",
       "      <td>DP00833</td>\n",
       "      <td>P22995</td>\n",
       "      <td>58</td>\n",
       "      <td>83</td>\n",
       "      <td>pmid:11743881</td>\n",
       "      <td>83</td>\n",
       "    </tr>\n",
       "    <tr>\n",
       "      <th>6</th>\n",
       "      <td>DP01201</td>\n",
       "      <td>Q47184</td>\n",
       "      <td>1</td>\n",
       "      <td>30</td>\n",
       "      <td>pmid:15943811</td>\n",
       "      <td>192</td>\n",
       "    </tr>\n",
       "  </tbody>\n",
       "</table>\n",
       "</div>"
      ],
      "text/plain": [
       "  DisProt entry ID UniProt ACC  Start   End      Reference  Length\n",
       "0          DP00342      P09883      1    83  pmid:12054823     582\n",
       "1          DP00389      P09983    962  1023   pmid:7703231    1023\n",
       "2          DP00461      P08083     67    90   pmid:9687368     387\n",
       "3          DP00575      P77072      1    20  pmid:15222745     212\n",
       "4          DP00656      P07674      1    64  pmid:20200158     358\n",
       "5          DP00833      P22995     58    83  pmid:11743881      83\n",
       "6          DP01201      Q47184      1    30  pmid:15943811     192"
      ]
     },
     "execution_count": 96,
     "metadata": {},
     "output_type": "execute_result"
    }
   ],
   "source": [
    "coli"
   ]
  },
  {
   "cell_type": "code",
   "execution_count": 97,
   "id": "a5b15ad1-c32c-4ad9-8554-01f82a42e868",
   "metadata": {},
   "outputs": [
    {
     "name": "stdout",
     "output_type": "stream",
     "text": [
      "Help on method head in module pandas.core.generic:\n",
      "\n",
      "head(n: 'int' = 5) -> 'FrameOrSeries' method of pandas.core.frame.DataFrame instance\n",
      "    Return the first `n` rows.\n",
      "    \n",
      "    This function returns the first `n` rows for the object based\n",
      "    on position. It is useful for quickly testing if your object\n",
      "    has the right type of data in it.\n",
      "    \n",
      "    For negative values of `n`, this function returns all rows except\n",
      "    the last `n` rows, equivalent to ``df[:-n]``.\n",
      "    \n",
      "    Parameters\n",
      "    ----------\n",
      "    n : int, default 5\n",
      "        Number of rows to select.\n",
      "    \n",
      "    Returns\n",
      "    -------\n",
      "    same type as caller\n",
      "        The first `n` rows of the caller object.\n",
      "    \n",
      "    See Also\n",
      "    --------\n",
      "    DataFrame.tail: Returns the last `n` rows.\n",
      "    \n",
      "    Examples\n",
      "    --------\n",
      "    >>> df = pd.DataFrame({'animal': ['alligator', 'bee', 'falcon', 'lion',\n",
      "    ...                    'monkey', 'parrot', 'shark', 'whale', 'zebra']})\n",
      "    >>> df\n",
      "          animal\n",
      "    0  alligator\n",
      "    1        bee\n",
      "    2     falcon\n",
      "    3       lion\n",
      "    4     monkey\n",
      "    5     parrot\n",
      "    6      shark\n",
      "    7      whale\n",
      "    8      zebra\n",
      "    \n",
      "    Viewing the first 5 lines\n",
      "    \n",
      "    >>> df.head()\n",
      "          animal\n",
      "    0  alligator\n",
      "    1        bee\n",
      "    2     falcon\n",
      "    3       lion\n",
      "    4     monkey\n",
      "    \n",
      "    Viewing the first `n` lines (three in this case)\n",
      "    \n",
      "    >>> df.head(3)\n",
      "          animal\n",
      "    0  alligator\n",
      "    1        bee\n",
      "    2     falcon\n",
      "    \n",
      "    For negative values of `n`\n",
      "    \n",
      "    >>> df.head(-3)\n",
      "          animal\n",
      "    0  alligator\n",
      "    1        bee\n",
      "    2     falcon\n",
      "    3       lion\n",
      "    4     monkey\n",
      "    5     parrot\n",
      "\n"
     ]
    }
   ],
   "source": [
    "help(coli.head)"
   ]
  },
  {
   "cell_type": "code",
   "execution_count": 98,
   "id": "dcbfead9-a8f2-47ba-9efd-0e634089db6b",
   "metadata": {},
   "outputs": [
    {
     "name": "stdout",
     "output_type": "stream",
     "text": [
      "Help on method tail in module pandas.core.generic:\n",
      "\n",
      "tail(n: 'int' = 5) -> 'FrameOrSeries' method of pandas.core.frame.DataFrame instance\n",
      "    Return the last `n` rows.\n",
      "    \n",
      "    This function returns last `n` rows from the object based on\n",
      "    position. It is useful for quickly verifying data, for example,\n",
      "    after sorting or appending rows.\n",
      "    \n",
      "    For negative values of `n`, this function returns all rows except\n",
      "    the first `n` rows, equivalent to ``df[n:]``.\n",
      "    \n",
      "    Parameters\n",
      "    ----------\n",
      "    n : int, default 5\n",
      "        Number of rows to select.\n",
      "    \n",
      "    Returns\n",
      "    -------\n",
      "    type of caller\n",
      "        The last `n` rows of the caller object.\n",
      "    \n",
      "    See Also\n",
      "    --------\n",
      "    DataFrame.head : The first `n` rows of the caller object.\n",
      "    \n",
      "    Examples\n",
      "    --------\n",
      "    >>> df = pd.DataFrame({'animal': ['alligator', 'bee', 'falcon', 'lion',\n",
      "    ...                    'monkey', 'parrot', 'shark', 'whale', 'zebra']})\n",
      "    >>> df\n",
      "          animal\n",
      "    0  alligator\n",
      "    1        bee\n",
      "    2     falcon\n",
      "    3       lion\n",
      "    4     monkey\n",
      "    5     parrot\n",
      "    6      shark\n",
      "    7      whale\n",
      "    8      zebra\n",
      "    \n",
      "    Viewing the last 5 lines\n",
      "    \n",
      "    >>> df.tail()\n",
      "       animal\n",
      "    4  monkey\n",
      "    5  parrot\n",
      "    6   shark\n",
      "    7   whale\n",
      "    8   zebra\n",
      "    \n",
      "    Viewing the last `n` lines (three in this case)\n",
      "    \n",
      "    >>> df.tail(3)\n",
      "      animal\n",
      "    6  shark\n",
      "    7  whale\n",
      "    8  zebra\n",
      "    \n",
      "    For negative values of `n`\n",
      "    \n",
      "    >>> df.tail(-3)\n",
      "       animal\n",
      "    3    lion\n",
      "    4  monkey\n",
      "    5  parrot\n",
      "    6   shark\n",
      "    7   whale\n",
      "    8   zebra\n",
      "\n"
     ]
    }
   ],
   "source": [
    "help(coli.tail)"
   ]
  },
  {
   "cell_type": "code",
   "execution_count": 99,
   "id": "2df55540-bea1-4904-9969-8f705a8b6853",
   "metadata": {},
   "outputs": [
    {
     "ename": "SyntaxError",
     "evalue": "invalid syntax (<ipython-input-99-643cbbfc89f4>, line 1)",
     "output_type": "error",
     "traceback": [
      "\u001b[1;36m  File \u001b[1;32m\"<ipython-input-99-643cbbfc89f4>\"\u001b[1;36m, line \u001b[1;32m1\u001b[0m\n\u001b[1;33m    head(n:'int'=3)\u001b[0m\n\u001b[1;37m          ^\u001b[0m\n\u001b[1;31mSyntaxError\u001b[0m\u001b[1;31m:\u001b[0m invalid syntax\n"
     ]
    }
   ],
   "source": [
    "head(n:'int'=3)"
   ]
  },
  {
   "cell_type": "code",
   "execution_count": 100,
   "id": "b231b39c-46cf-44ee-b660-c4591387f9a5",
   "metadata": {},
   "outputs": [
    {
     "ename": "SyntaxError",
     "evalue": "invalid syntax (<ipython-input-100-5c5d2310014a>, line 1)",
     "output_type": "error",
     "traceback": [
      "\u001b[1;36m  File \u001b[1;32m\"<ipython-input-100-5c5d2310014a>\"\u001b[1;36m, line \u001b[1;32m1\u001b[0m\n\u001b[1;33m    head (n: 'int' = 3)\u001b[0m\n\u001b[1;37m           ^\u001b[0m\n\u001b[1;31mSyntaxError\u001b[0m\u001b[1;31m:\u001b[0m invalid syntax\n"
     ]
    }
   ],
   "source": [
    "head (n: 'int' = 3)"
   ]
  },
  {
   "cell_type": "code",
   "execution_count": 101,
   "id": "1583d94d-b32e-4356-8efe-5884e6bff2e3",
   "metadata": {},
   "outputs": [
    {
     "ename": "SyntaxError",
     "evalue": "invalid syntax (<ipython-input-101-4a2c0a689859>, line 1)",
     "output_type": "error",
     "traceback": [
      "\u001b[1;36m  File \u001b[1;32m\"<ipython-input-101-4a2c0a689859>\"\u001b[1;36m, line \u001b[1;32m1\u001b[0m\n\u001b[1;33m    head(n: 'int' = 3)\u001b[0m\n\u001b[1;37m          ^\u001b[0m\n\u001b[1;31mSyntaxError\u001b[0m\u001b[1;31m:\u001b[0m invalid syntax\n"
     ]
    }
   ],
   "source": [
    "head(n: 'int' = 3)"
   ]
  },
  {
   "cell_type": "code",
   "execution_count": 102,
   "id": "e4d7522e-2027-480a-b2ce-c0662cd80b59",
   "metadata": {},
   "outputs": [
    {
     "data": {
      "text/html": [
       "<div>\n",
       "<style scoped>\n",
       "    .dataframe tbody tr th:only-of-type {\n",
       "        vertical-align: middle;\n",
       "    }\n",
       "\n",
       "    .dataframe tbody tr th {\n",
       "        vertical-align: top;\n",
       "    }\n",
       "\n",
       "    .dataframe thead th {\n",
       "        text-align: right;\n",
       "    }\n",
       "</style>\n",
       "<table border=\"1\" class=\"dataframe\">\n",
       "  <thead>\n",
       "    <tr style=\"text-align: right;\">\n",
       "      <th></th>\n",
       "      <th>DisProt entry ID</th>\n",
       "      <th>UniProt ACC</th>\n",
       "      <th>Start</th>\n",
       "      <th>End</th>\n",
       "      <th>Reference</th>\n",
       "      <th>Length</th>\n",
       "    </tr>\n",
       "  </thead>\n",
       "  <tbody>\n",
       "    <tr>\n",
       "      <th>0</th>\n",
       "      <td>DP00342</td>\n",
       "      <td>P09883</td>\n",
       "      <td>1</td>\n",
       "      <td>83</td>\n",
       "      <td>pmid:12054823</td>\n",
       "      <td>582</td>\n",
       "    </tr>\n",
       "    <tr>\n",
       "      <th>1</th>\n",
       "      <td>DP00389</td>\n",
       "      <td>P09983</td>\n",
       "      <td>962</td>\n",
       "      <td>1023</td>\n",
       "      <td>pmid:7703231</td>\n",
       "      <td>1023</td>\n",
       "    </tr>\n",
       "    <tr>\n",
       "      <th>2</th>\n",
       "      <td>DP00461</td>\n",
       "      <td>P08083</td>\n",
       "      <td>67</td>\n",
       "      <td>90</td>\n",
       "      <td>pmid:9687368</td>\n",
       "      <td>387</td>\n",
       "    </tr>\n",
       "  </tbody>\n",
       "</table>\n",
       "</div>"
      ],
      "text/plain": [
       "  DisProt entry ID UniProt ACC  Start   End      Reference  Length\n",
       "0          DP00342      P09883      1    83  pmid:12054823     582\n",
       "1          DP00389      P09983    962  1023   pmid:7703231    1023\n",
       "2          DP00461      P08083     67    90   pmid:9687368     387"
      ]
     },
     "execution_count": 102,
     "metadata": {},
     "output_type": "execute_result"
    }
   ],
   "source": [
    "coli.head(n=3)"
   ]
  },
  {
   "cell_type": "code",
   "execution_count": 103,
   "id": "c8aba35d-df70-4774-9ae8-1baf4a03fcc9",
   "metadata": {},
   "outputs": [
    {
     "ename": "NameError",
     "evalue": "name 'tail' is not defined",
     "output_type": "error",
     "traceback": [
      "\u001b[1;31m---------------------------------------------------------------------------\u001b[0m",
      "\u001b[1;31mNameError\u001b[0m                                 Traceback (most recent call last)",
      "\u001b[1;32m<ipython-input-103-eb5b2f3674b2>\u001b[0m in \u001b[0;36m<module>\u001b[1;34m\u001b[0m\n\u001b[1;32m----> 1\u001b[1;33m \u001b[0mtail\u001b[0m\u001b[1;33m(\u001b[0m\u001b[1;33m)\u001b[0m\u001b[1;33m\u001b[0m\u001b[1;33m\u001b[0m\u001b[0m\n\u001b[0m",
      "\u001b[1;31mNameError\u001b[0m: name 'tail' is not defined"
     ]
    }
   ],
   "source": [
    "tail()"
   ]
  },
  {
   "cell_type": "code",
   "execution_count": 104,
   "id": "3d49d4e4-3613-4637-99c5-c9f76a5cc4e5",
   "metadata": {},
   "outputs": [
    {
     "data": {
      "text/html": [
       "<div>\n",
       "<style scoped>\n",
       "    .dataframe tbody tr th:only-of-type {\n",
       "        vertical-align: middle;\n",
       "    }\n",
       "\n",
       "    .dataframe tbody tr th {\n",
       "        vertical-align: top;\n",
       "    }\n",
       "\n",
       "    .dataframe thead th {\n",
       "        text-align: right;\n",
       "    }\n",
       "</style>\n",
       "<table border=\"1\" class=\"dataframe\">\n",
       "  <thead>\n",
       "    <tr style=\"text-align: right;\">\n",
       "      <th></th>\n",
       "      <th>DisProt entry ID</th>\n",
       "      <th>UniProt ACC</th>\n",
       "      <th>Start</th>\n",
       "      <th>End</th>\n",
       "      <th>Reference</th>\n",
       "      <th>Length</th>\n",
       "    </tr>\n",
       "  </thead>\n",
       "  <tbody>\n",
       "    <tr>\n",
       "      <th>4</th>\n",
       "      <td>DP00656</td>\n",
       "      <td>P07674</td>\n",
       "      <td>1</td>\n",
       "      <td>64</td>\n",
       "      <td>pmid:20200158</td>\n",
       "      <td>358</td>\n",
       "    </tr>\n",
       "    <tr>\n",
       "      <th>5</th>\n",
       "      <td>DP00833</td>\n",
       "      <td>P22995</td>\n",
       "      <td>58</td>\n",
       "      <td>83</td>\n",
       "      <td>pmid:11743881</td>\n",
       "      <td>83</td>\n",
       "    </tr>\n",
       "    <tr>\n",
       "      <th>6</th>\n",
       "      <td>DP01201</td>\n",
       "      <td>Q47184</td>\n",
       "      <td>1</td>\n",
       "      <td>30</td>\n",
       "      <td>pmid:15943811</td>\n",
       "      <td>192</td>\n",
       "    </tr>\n",
       "  </tbody>\n",
       "</table>\n",
       "</div>"
      ],
      "text/plain": [
       "  DisProt entry ID UniProt ACC  Start  End      Reference  Length\n",
       "4          DP00656      P07674      1   64  pmid:20200158     358\n",
       "5          DP00833      P22995     58   83  pmid:11743881      83\n",
       "6          DP01201      Q47184      1   30  pmid:15943811     192"
      ]
     },
     "execution_count": 104,
     "metadata": {},
     "output_type": "execute_result"
    }
   ],
   "source": [
    "coli.tail(n=3)"
   ]
  },
  {
   "cell_type": "code",
   "execution_count": 12,
   "id": "bed3fa48-f36a-4f9c-9b8d-f68b04dfc470",
   "metadata": {},
   "outputs": [
    {
     "data": {
      "text/html": [
       "<div>\n",
       "<style scoped>\n",
       "    .dataframe tbody tr th:only-of-type {\n",
       "        vertical-align: middle;\n",
       "    }\n",
       "\n",
       "    .dataframe tbody tr th {\n",
       "        vertical-align: top;\n",
       "    }\n",
       "\n",
       "    .dataframe thead th {\n",
       "        text-align: right;\n",
       "    }\n",
       "</style>\n",
       "<table border=\"1\" class=\"dataframe\">\n",
       "  <thead>\n",
       "    <tr style=\"text-align: right;\">\n",
       "      <th></th>\n",
       "      <th>DisProt entry ID</th>\n",
       "      <th>Start</th>\n",
       "      <th>End</th>\n",
       "      <th>Reference</th>\n",
       "      <th>Length</th>\n",
       "    </tr>\n",
       "    <tr>\n",
       "      <th>UniProt ACC</th>\n",
       "      <th></th>\n",
       "      <th></th>\n",
       "      <th></th>\n",
       "      <th></th>\n",
       "      <th></th>\n",
       "    </tr>\n",
       "  </thead>\n",
       "  <tbody>\n",
       "    <tr>\n",
       "      <th>Q22472</th>\n",
       "      <td>DP00613</td>\n",
       "      <td>1</td>\n",
       "      <td>378</td>\n",
       "      <td>pmid:19899809</td>\n",
       "      <td>378</td>\n",
       "    </tr>\n",
       "    <tr>\n",
       "      <th>Q9NHC3</th>\n",
       "      <td>DP00868</td>\n",
       "      <td>102</td>\n",
       "      <td>117</td>\n",
       "      <td>pmid:21616056</td>\n",
       "      <td>279</td>\n",
       "    </tr>\n",
       "    <tr>\n",
       "      <th>G4SLH0</th>\n",
       "      <td>DP01090</td>\n",
       "      <td>3546</td>\n",
       "      <td>3795</td>\n",
       "      <td>pmid:20346955</td>\n",
       "      <td>18562</td>\n",
       "    </tr>\n",
       "    <tr>\n",
       "      <th>D0PV95</th>\n",
       "      <td>DP01113</td>\n",
       "      <td>1</td>\n",
       "      <td>168</td>\n",
       "      <td>pmid:26015579</td>\n",
       "      <td>708</td>\n",
       "    </tr>\n",
       "    <tr>\n",
       "      <th>Q9N4U5</th>\n",
       "      <td>DP01313</td>\n",
       "      <td>163</td>\n",
       "      <td>223</td>\n",
       "      <td>pmid:27150041</td>\n",
       "      <td>547</td>\n",
       "    </tr>\n",
       "    <tr>\n",
       "      <th>O61667</th>\n",
       "      <td>DP01407</td>\n",
       "      <td>93</td>\n",
       "      <td>106</td>\n",
       "      <td>pmid:15383288</td>\n",
       "      <td>106</td>\n",
       "    </tr>\n",
       "    <tr>\n",
       "      <th>P54936</th>\n",
       "      <td>DP01436</td>\n",
       "      <td>423</td>\n",
       "      <td>487</td>\n",
       "      <td>pmid:12110687</td>\n",
       "      <td>961</td>\n",
       "    </tr>\n",
       "    <tr>\n",
       "      <th>P90976</th>\n",
       "      <td>DP01437</td>\n",
       "      <td>115</td>\n",
       "      <td>180</td>\n",
       "      <td>pmid:12110687</td>\n",
       "      <td>297</td>\n",
       "    </tr>\n",
       "    <tr>\n",
       "      <th>Q9XTY3</th>\n",
       "      <td>DP01558</td>\n",
       "      <td>17</td>\n",
       "      <td>211</td>\n",
       "      <td>pmid:22947085</td>\n",
       "      <td>211</td>\n",
       "    </tr>\n",
       "    <tr>\n",
       "      <th>Q09514</th>\n",
       "      <td>DP01973</td>\n",
       "      <td>1</td>\n",
       "      <td>18</td>\n",
       "      <td>pmid:26621324</td>\n",
       "      <td>266</td>\n",
       "    </tr>\n",
       "    <tr>\n",
       "      <th>P30429</th>\n",
       "      <td>DP02025</td>\n",
       "      <td>1</td>\n",
       "      <td>105</td>\n",
       "      <td>pmid:16208361</td>\n",
       "      <td>571</td>\n",
       "    </tr>\n",
       "    <tr>\n",
       "      <th>Q9U3S5</th>\n",
       "      <td>DP02216</td>\n",
       "      <td>1</td>\n",
       "      <td>100</td>\n",
       "      <td>pmid:30036386</td>\n",
       "      <td>1050</td>\n",
       "    </tr>\n",
       "    <tr>\n",
       "      <th>Q8IG33</th>\n",
       "      <td>DP02313</td>\n",
       "      <td>18</td>\n",
       "      <td>88</td>\n",
       "      <td>pmid:21397184</td>\n",
       "      <td>186</td>\n",
       "    </tr>\n",
       "  </tbody>\n",
       "</table>\n",
       "</div>"
      ],
      "text/plain": [
       "            DisProt entry ID  Start   End      Reference  Length\n",
       "UniProt ACC                                                     \n",
       "Q22472               DP00613      1   378  pmid:19899809     378\n",
       "Q9NHC3               DP00868    102   117  pmid:21616056     279\n",
       "G4SLH0               DP01090   3546  3795  pmid:20346955   18562\n",
       "D0PV95               DP01113      1   168  pmid:26015579     708\n",
       "Q9N4U5               DP01313    163   223  pmid:27150041     547\n",
       "O61667               DP01407     93   106  pmid:15383288     106\n",
       "P54936               DP01436    423   487  pmid:12110687     961\n",
       "P90976               DP01437    115   180  pmid:12110687     297\n",
       "Q9XTY3               DP01558     17   211  pmid:22947085     211\n",
       "Q09514               DP01973      1    18  pmid:26621324     266\n",
       "P30429               DP02025      1   105  pmid:16208361     571\n",
       "Q9U3S5               DP02216      1   100  pmid:30036386    1050\n",
       "Q8IG33               DP02313     18    88  pmid:21397184     186"
      ]
     },
     "execution_count": 12,
     "metadata": {},
     "output_type": "execute_result"
    }
   ],
   "source": [
    "import pandas as pd\n",
    "data=pd.read_csv('data/DisProt_data_Caenorhabditis-elegans.csv', index_col= 'UniProt ACC')\n",
    "data"
   ]
  },
  {
   "cell_type": "code",
   "execution_count": 17,
   "id": "e87818e9-d8d8-4488-a0db-8d8612c22840",
   "metadata": {},
   "outputs": [
    {
     "data": {
      "text/plain": [
       "DisProt entry ID          DP01113\n",
       "Start                           1\n",
       "End                           168\n",
       "Reference           pmid:26015579\n",
       "Length                        708\n",
       "Name: D0PV95, dtype: object"
      ]
     },
     "execution_count": 17,
     "metadata": {},
     "output_type": "execute_result"
    }
   ],
   "source": [
    "data.loc['D0PV95', :]"
   ]
  },
  {
   "cell_type": "code",
   "execution_count": 19,
   "id": "d3471664-86e7-4b1c-8f53-9ec7f9f25afb",
   "metadata": {},
   "outputs": [
    {
     "data": {
      "text/plain": [
       "UniProt ACC\n",
       "Q22472      378\n",
       "Q9NHC3      279\n",
       "G4SLH0    18562\n",
       "D0PV95      708\n",
       "Q9N4U5      547\n",
       "O61667      106\n",
       "P54936      961\n",
       "P90976      297\n",
       "Q9XTY3      211\n",
       "Q09514      266\n",
       "P30429      571\n",
       "Q9U3S5     1050\n",
       "Q8IG33      186\n",
       "Name: Length, dtype: int64"
      ]
     },
     "execution_count": 19,
     "metadata": {},
     "output_type": "execute_result"
    }
   ],
   "source": [
    "data.loc[:, 'Length']"
   ]
  },
  {
   "cell_type": "code",
   "execution_count": 23,
   "id": "2666cca1-8709-4c79-8c39-7e910597b0aa",
   "metadata": {},
   "outputs": [
    {
     "data": {
      "text/html": [
       "<div>\n",
       "<style scoped>\n",
       "    .dataframe tbody tr th:only-of-type {\n",
       "        vertical-align: middle;\n",
       "    }\n",
       "\n",
       "    .dataframe tbody tr th {\n",
       "        vertical-align: top;\n",
       "    }\n",
       "\n",
       "    .dataframe thead th {\n",
       "        text-align: right;\n",
       "    }\n",
       "</style>\n",
       "<table border=\"1\" class=\"dataframe\">\n",
       "  <thead>\n",
       "    <tr style=\"text-align: right;\">\n",
       "      <th></th>\n",
       "      <th>Start</th>\n",
       "      <th>End</th>\n",
       "    </tr>\n",
       "    <tr>\n",
       "      <th>UniProt ACC</th>\n",
       "      <th></th>\n",
       "      <th></th>\n",
       "    </tr>\n",
       "  </thead>\n",
       "  <tbody>\n",
       "    <tr>\n",
       "      <th>P30429</th>\n",
       "      <td>1</td>\n",
       "      <td>105</td>\n",
       "    </tr>\n",
       "    <tr>\n",
       "      <th>Q9U3S5</th>\n",
       "      <td>1</td>\n",
       "      <td>100</td>\n",
       "    </tr>\n",
       "    <tr>\n",
       "      <th>Q8IG33</th>\n",
       "      <td>18</td>\n",
       "      <td>88</td>\n",
       "    </tr>\n",
       "  </tbody>\n",
       "</table>\n",
       "</div>"
      ],
      "text/plain": [
       "             Start  End\n",
       "UniProt ACC            \n",
       "P30429           1  105\n",
       "Q9U3S5           1  100\n",
       "Q8IG33          18   88"
      ]
     },
     "execution_count": 23,
     "metadata": {},
     "output_type": "execute_result"
    }
   ],
   "source": [
    "data.iloc[-3:, 1:3]"
   ]
  },
  {
   "cell_type": "code",
   "execution_count": 27,
   "id": "5a8ce50e-184b-4ef7-bfab-bbff6f517c2c",
   "metadata": {},
   "outputs": [],
   "source": [
    "selection=data.loc['P30429': 'Q8IG33', 'Start':'End']"
   ]
  },
  {
   "cell_type": "code",
   "execution_count": 28,
   "id": "91dd7dfe-93a6-4ac4-9d39-64bb66112b70",
   "metadata": {},
   "outputs": [
    {
     "data": {
      "text/plain": [
       "Start     18\n",
       "End      105\n",
       "dtype: int64"
      ]
     },
     "execution_count": 28,
     "metadata": {},
     "output_type": "execute_result"
    }
   ],
   "source": [
    "selection.max()"
   ]
  },
  {
   "cell_type": "code",
   "execution_count": 29,
   "id": "1ddb6803-6ad8-4434-83e9-273b10080f8c",
   "metadata": {},
   "outputs": [
    {
     "data": {
      "text/plain": [
       "Start     1\n",
       "End      88\n",
       "dtype: int64"
      ]
     },
     "execution_count": 29,
     "metadata": {},
     "output_type": "execute_result"
    }
   ],
   "source": [
    "selection.min()"
   ]
  },
  {
   "cell_type": "code",
   "execution_count": 33,
   "id": "975a2b5b-569e-4ba4-9b72-fbcebd5202ee",
   "metadata": {},
   "outputs": [
    {
     "data": {
      "text/plain": [
       "UniProt ACC\n",
       "P30429     True\n",
       "Q9U3S5     True\n",
       "Q8IG33    False\n",
       "Name: Length, dtype: bool"
      ]
     },
     "execution_count": 33,
     "metadata": {},
     "output_type": "execute_result"
    }
   ],
   "source": [
    "selection_length = data.loc['P30429': 'Q8IG33','Length']\n",
    "selection_length >200"
   ]
  },
  {
   "cell_type": "code",
   "execution_count": 42,
   "id": "3489da15-65a2-48cb-a81b-d8dab517943c",
   "metadata": {},
   "outputs": [
    {
     "data": {
      "text/plain": [
       "UniProt ACC\n",
       "Q22472    False\n",
       "Q9NHC3    False\n",
       "G4SLH0     True\n",
       "D0PV95    False\n",
       "Q9N4U5    False\n",
       "O61667    False\n",
       "P54936    False\n",
       "P90976    False\n",
       "Q9XTY3    False\n",
       "Q09514    False\n",
       "P30429    False\n",
       "Q9U3S5    False\n",
       "Q8IG33    False\n",
       "Name: Length, dtype: bool"
      ]
     },
     "execution_count": 42,
     "metadata": {},
     "output_type": "execute_result"
    }
   ],
   "source": [
    "length_row=data.loc[:,'Length']\n",
    "mean_length = length_row.mean()\n",
    "length_row > mean_length"
   ]
  },
  {
   "cell_type": "code",
   "execution_count": 46,
   "id": "1dcd8678-bd63-449e-aa4d-ebc65509d7d9",
   "metadata": {},
   "outputs": [],
   "source": [
    "mask_higher = data.loc[:, 'Length'] >data.loc[:, 'Length']. mean()"
   ]
  },
  {
   "cell_type": "code",
   "execution_count": 48,
   "id": "8ac31304-a092-48c9-aabd-e0e3d2fa4ea1",
   "metadata": {},
   "outputs": [
    {
     "data": {
      "text/html": [
       "<div>\n",
       "<style scoped>\n",
       "    .dataframe tbody tr th:only-of-type {\n",
       "        vertical-align: middle;\n",
       "    }\n",
       "\n",
       "    .dataframe tbody tr th {\n",
       "        vertical-align: top;\n",
       "    }\n",
       "\n",
       "    .dataframe thead th {\n",
       "        text-align: right;\n",
       "    }\n",
       "</style>\n",
       "<table border=\"1\" class=\"dataframe\">\n",
       "  <thead>\n",
       "    <tr style=\"text-align: right;\">\n",
       "      <th></th>\n",
       "      <th>DisProt entry ID</th>\n",
       "      <th>Start</th>\n",
       "      <th>End</th>\n",
       "      <th>Reference</th>\n",
       "      <th>Length</th>\n",
       "    </tr>\n",
       "    <tr>\n",
       "      <th>UniProt ACC</th>\n",
       "      <th></th>\n",
       "      <th></th>\n",
       "      <th></th>\n",
       "      <th></th>\n",
       "      <th></th>\n",
       "    </tr>\n",
       "  </thead>\n",
       "  <tbody>\n",
       "    <tr>\n",
       "      <th>Q22472</th>\n",
       "      <td>DP00613</td>\n",
       "      <td>1</td>\n",
       "      <td>378</td>\n",
       "      <td>pmid:19899809</td>\n",
       "      <td>378</td>\n",
       "    </tr>\n",
       "    <tr>\n",
       "      <th>Q9NHC3</th>\n",
       "      <td>DP00868</td>\n",
       "      <td>102</td>\n",
       "      <td>117</td>\n",
       "      <td>pmid:21616056</td>\n",
       "      <td>279</td>\n",
       "    </tr>\n",
       "    <tr>\n",
       "      <th>D0PV95</th>\n",
       "      <td>DP01113</td>\n",
       "      <td>1</td>\n",
       "      <td>168</td>\n",
       "      <td>pmid:26015579</td>\n",
       "      <td>708</td>\n",
       "    </tr>\n",
       "    <tr>\n",
       "      <th>Q9N4U5</th>\n",
       "      <td>DP01313</td>\n",
       "      <td>163</td>\n",
       "      <td>223</td>\n",
       "      <td>pmid:27150041</td>\n",
       "      <td>547</td>\n",
       "    </tr>\n",
       "    <tr>\n",
       "      <th>O61667</th>\n",
       "      <td>DP01407</td>\n",
       "      <td>93</td>\n",
       "      <td>106</td>\n",
       "      <td>pmid:15383288</td>\n",
       "      <td>106</td>\n",
       "    </tr>\n",
       "    <tr>\n",
       "      <th>P54936</th>\n",
       "      <td>DP01436</td>\n",
       "      <td>423</td>\n",
       "      <td>487</td>\n",
       "      <td>pmid:12110687</td>\n",
       "      <td>961</td>\n",
       "    </tr>\n",
       "    <tr>\n",
       "      <th>P90976</th>\n",
       "      <td>DP01437</td>\n",
       "      <td>115</td>\n",
       "      <td>180</td>\n",
       "      <td>pmid:12110687</td>\n",
       "      <td>297</td>\n",
       "    </tr>\n",
       "    <tr>\n",
       "      <th>Q9XTY3</th>\n",
       "      <td>DP01558</td>\n",
       "      <td>17</td>\n",
       "      <td>211</td>\n",
       "      <td>pmid:22947085</td>\n",
       "      <td>211</td>\n",
       "    </tr>\n",
       "    <tr>\n",
       "      <th>Q09514</th>\n",
       "      <td>DP01973</td>\n",
       "      <td>1</td>\n",
       "      <td>18</td>\n",
       "      <td>pmid:26621324</td>\n",
       "      <td>266</td>\n",
       "    </tr>\n",
       "    <tr>\n",
       "      <th>P30429</th>\n",
       "      <td>DP02025</td>\n",
       "      <td>1</td>\n",
       "      <td>105</td>\n",
       "      <td>pmid:16208361</td>\n",
       "      <td>571</td>\n",
       "    </tr>\n",
       "    <tr>\n",
       "      <th>Q9U3S5</th>\n",
       "      <td>DP02216</td>\n",
       "      <td>1</td>\n",
       "      <td>100</td>\n",
       "      <td>pmid:30036386</td>\n",
       "      <td>1050</td>\n",
       "    </tr>\n",
       "    <tr>\n",
       "      <th>Q8IG33</th>\n",
       "      <td>DP02313</td>\n",
       "      <td>18</td>\n",
       "      <td>88</td>\n",
       "      <td>pmid:21397184</td>\n",
       "      <td>186</td>\n",
       "    </tr>\n",
       "  </tbody>\n",
       "</table>\n",
       "</div>"
      ],
      "text/plain": [
       "            DisProt entry ID  Start  End      Reference  Length\n",
       "UniProt ACC                                                    \n",
       "Q22472               DP00613      1  378  pmid:19899809     378\n",
       "Q9NHC3               DP00868    102  117  pmid:21616056     279\n",
       "D0PV95               DP01113      1  168  pmid:26015579     708\n",
       "Q9N4U5               DP01313    163  223  pmid:27150041     547\n",
       "O61667               DP01407     93  106  pmid:15383288     106\n",
       "P54936               DP01436    423  487  pmid:12110687     961\n",
       "P90976               DP01437    115  180  pmid:12110687     297\n",
       "Q9XTY3               DP01558     17  211  pmid:22947085     211\n",
       "Q09514               DP01973      1   18  pmid:26621324     266\n",
       "P30429               DP02025      1  105  pmid:16208361     571\n",
       "Q9U3S5               DP02216      1  100  pmid:30036386    1050\n",
       "Q8IG33               DP02313     18   88  pmid:21397184     186"
      ]
     },
     "execution_count": 48,
     "metadata": {},
     "output_type": "execute_result"
    }
   ],
   "source": [
    "new_data = data.drop('G4SLH0')\n",
    "new_data"
   ]
  },
  {
   "cell_type": "code",
   "execution_count": 49,
   "id": "3c7b13e7-6b03-4839-8e23-d91f6f9d8f29",
   "metadata": {},
   "outputs": [
    {
     "data": {
      "text/plain": [
       "UniProt ACC\n",
       "Q22472      378\n",
       "Q9NHC3      279\n",
       "G4SLH0    18562\n",
       "D0PV95      708\n",
       "Q9N4U5      547\n",
       "O61667      106\n",
       "P54936      961\n",
       "P90976      297\n",
       "Q9XTY3      211\n",
       "Q09514      266\n",
       "P30429      571\n",
       "Q9U3S5     1050\n",
       "Q8IG33      186\n",
       "Name: Length, dtype: int64"
      ]
     },
     "execution_count": 49,
     "metadata": {},
     "output_type": "execute_result"
    }
   ],
   "source": [
    "data['Length']"
   ]
  },
  {
   "cell_type": "code",
   "execution_count": 53,
   "id": "e494ea4c-dbb8-4e44-914d-09c9dcf83a09",
   "metadata": {},
   "outputs": [],
   "source": [
    "selection=data.loc['Q22472': 'Q8IG33', 'Start']"
   ]
  },
  {
   "cell_type": "code",
   "execution_count": 54,
   "id": "d0d0fd53-2486-467c-99d2-49db9c042991",
   "metadata": {},
   "outputs": [
    {
     "data": {
      "text/plain": [
       "UniProt ACC\n",
       "Q22472       1\n",
       "Q9NHC3     102\n",
       "G4SLH0    3546\n",
       "D0PV95       1\n",
       "Q9N4U5     163\n",
       "O61667      93\n",
       "P54936     423\n",
       "P90976     115\n",
       "Q9XTY3      17\n",
       "Q09514       1\n",
       "P30429       1\n",
       "Q9U3S5       1\n",
       "Q8IG33      18\n",
       "Name: Start, dtype: int64"
      ]
     },
     "execution_count": 54,
     "metadata": {},
     "output_type": "execute_result"
    }
   ],
   "source": [
    "selection"
   ]
  },
  {
   "cell_type": "code",
   "execution_count": 58,
   "id": "1ff5bd21-2f68-4f9d-b3dc-edb41559e2cc",
   "metadata": {},
   "outputs": [
    {
     "data": {
      "text/html": [
       "<div>\n",
       "<style scoped>\n",
       "    .dataframe tbody tr th:only-of-type {\n",
       "        vertical-align: middle;\n",
       "    }\n",
       "\n",
       "    .dataframe tbody tr th {\n",
       "        vertical-align: top;\n",
       "    }\n",
       "\n",
       "    .dataframe thead th {\n",
       "        text-align: right;\n",
       "    }\n",
       "</style>\n",
       "<table border=\"1\" class=\"dataframe\">\n",
       "  <thead>\n",
       "    <tr style=\"text-align: right;\">\n",
       "      <th></th>\n",
       "      <th>UniProt ACC</th>\n",
       "      <th>Start</th>\n",
       "      <th>End</th>\n",
       "      <th>Reference</th>\n",
       "      <th>Length</th>\n",
       "    </tr>\n",
       "    <tr>\n",
       "      <th>DisProt entry ID</th>\n",
       "      <th></th>\n",
       "      <th></th>\n",
       "      <th></th>\n",
       "      <th></th>\n",
       "      <th></th>\n",
       "    </tr>\n",
       "  </thead>\n",
       "  <tbody>\n",
       "    <tr>\n",
       "      <th>DP00613</th>\n",
       "      <td>Q22472</td>\n",
       "      <td>1</td>\n",
       "      <td>378</td>\n",
       "      <td>pmid:19899809</td>\n",
       "      <td>378</td>\n",
       "    </tr>\n",
       "    <tr>\n",
       "      <th>DP00868</th>\n",
       "      <td>Q9NHC3</td>\n",
       "      <td>102</td>\n",
       "      <td>117</td>\n",
       "      <td>pmid:21616056</td>\n",
       "      <td>279</td>\n",
       "    </tr>\n",
       "    <tr>\n",
       "      <th>DP01090</th>\n",
       "      <td>G4SLH0</td>\n",
       "      <td>3546</td>\n",
       "      <td>3795</td>\n",
       "      <td>pmid:20346955</td>\n",
       "      <td>18562</td>\n",
       "    </tr>\n",
       "    <tr>\n",
       "      <th>DP01113</th>\n",
       "      <td>D0PV95</td>\n",
       "      <td>1</td>\n",
       "      <td>168</td>\n",
       "      <td>pmid:26015579</td>\n",
       "      <td>708</td>\n",
       "    </tr>\n",
       "    <tr>\n",
       "      <th>DP01313</th>\n",
       "      <td>Q9N4U5</td>\n",
       "      <td>163</td>\n",
       "      <td>223</td>\n",
       "      <td>pmid:27150041</td>\n",
       "      <td>547</td>\n",
       "    </tr>\n",
       "    <tr>\n",
       "      <th>DP01407</th>\n",
       "      <td>O61667</td>\n",
       "      <td>93</td>\n",
       "      <td>106</td>\n",
       "      <td>pmid:15383288</td>\n",
       "      <td>106</td>\n",
       "    </tr>\n",
       "    <tr>\n",
       "      <th>DP01436</th>\n",
       "      <td>P54936</td>\n",
       "      <td>423</td>\n",
       "      <td>487</td>\n",
       "      <td>pmid:12110687</td>\n",
       "      <td>961</td>\n",
       "    </tr>\n",
       "    <tr>\n",
       "      <th>DP01437</th>\n",
       "      <td>P90976</td>\n",
       "      <td>115</td>\n",
       "      <td>180</td>\n",
       "      <td>pmid:12110687</td>\n",
       "      <td>297</td>\n",
       "    </tr>\n",
       "    <tr>\n",
       "      <th>DP01558</th>\n",
       "      <td>Q9XTY3</td>\n",
       "      <td>17</td>\n",
       "      <td>211</td>\n",
       "      <td>pmid:22947085</td>\n",
       "      <td>211</td>\n",
       "    </tr>\n",
       "    <tr>\n",
       "      <th>DP01973</th>\n",
       "      <td>Q09514</td>\n",
       "      <td>1</td>\n",
       "      <td>18</td>\n",
       "      <td>pmid:26621324</td>\n",
       "      <td>266</td>\n",
       "    </tr>\n",
       "    <tr>\n",
       "      <th>DP02025</th>\n",
       "      <td>P30429</td>\n",
       "      <td>1</td>\n",
       "      <td>105</td>\n",
       "      <td>pmid:16208361</td>\n",
       "      <td>571</td>\n",
       "    </tr>\n",
       "    <tr>\n",
       "      <th>DP02216</th>\n",
       "      <td>Q9U3S5</td>\n",
       "      <td>1</td>\n",
       "      <td>100</td>\n",
       "      <td>pmid:30036386</td>\n",
       "      <td>1050</td>\n",
       "    </tr>\n",
       "    <tr>\n",
       "      <th>DP02313</th>\n",
       "      <td>Q8IG33</td>\n",
       "      <td>18</td>\n",
       "      <td>88</td>\n",
       "      <td>pmid:21397184</td>\n",
       "      <td>186</td>\n",
       "    </tr>\n",
       "  </tbody>\n",
       "</table>\n",
       "</div>"
      ],
      "text/plain": [
       "                 UniProt ACC  Start   End      Reference  Length\n",
       "DisProt entry ID                                                \n",
       "DP00613               Q22472      1   378  pmid:19899809     378\n",
       "DP00868               Q9NHC3    102   117  pmid:21616056     279\n",
       "DP01090               G4SLH0   3546  3795  pmid:20346955   18562\n",
       "DP01113               D0PV95      1   168  pmid:26015579     708\n",
       "DP01313               Q9N4U5    163   223  pmid:27150041     547\n",
       "DP01407               O61667     93   106  pmid:15383288     106\n",
       "DP01436               P54936    423   487  pmid:12110687     961\n",
       "DP01437               P90976    115   180  pmid:12110687     297\n",
       "DP01558               Q9XTY3     17   211  pmid:22947085     211\n",
       "DP01973               Q09514      1    18  pmid:26621324     266\n",
       "DP02025               P30429      1   105  pmid:16208361     571\n",
       "DP02216               Q9U3S5      1   100  pmid:30036386    1050\n",
       "DP02313               Q8IG33     18    88  pmid:21397184     186"
      ]
     },
     "execution_count": 58,
     "metadata": {},
     "output_type": "execute_result"
    }
   ],
   "source": [
    "data=pd.read_csv('data/DisProt_data_Caenorhabditis-elegans.csv', index_col= 'DisProt entry ID')\n",
    "data"
   ]
  },
  {
   "cell_type": "code",
   "execution_count": 59,
   "id": "b8867040-8836-4eb4-9c66-ba5e2ee4079f",
   "metadata": {},
   "outputs": [
    {
     "data": {
      "text/plain": [
       "UniProt ACC           Q22472\n",
       "Start                      1\n",
       "End                      378\n",
       "Reference      pmid:19899809\n",
       "Length                   378\n",
       "Name: DP00613, dtype: object"
      ]
     },
     "execution_count": 59,
     "metadata": {},
     "output_type": "execute_result"
    }
   ],
   "source": [
    "data.loc['DP00613', :]"
   ]
  },
  {
   "cell_type": "code",
   "execution_count": 61,
   "id": "20674cbe-43ab-47c7-b993-04efb95c47e5",
   "metadata": {},
   "outputs": [
    {
     "data": {
      "text/plain": [
       "DisProt entry ID\n",
       "DP00613     True\n",
       "DP00868     True\n",
       "DP01090     True\n",
       "DP01113     True\n",
       "DP01313     True\n",
       "DP01407    False\n",
       "DP01436     True\n",
       "DP01437     True\n",
       "DP01558     True\n",
       "DP01973     True\n",
       "DP02025     True\n",
       "DP02216     True\n",
       "DP02313     True\n",
       "Name: Length, dtype: bool"
      ]
     },
     "execution_count": 61,
     "metadata": {},
     "output_type": "execute_result"
    }
   ],
   "source": [
    "selection_length = data.loc['DP00613': 'DP02313','Length']\n",
    "selection_length >150"
   ]
  },
  {
   "cell_type": "code",
   "execution_count": 62,
   "id": "58d4e545-615e-4e7b-a3c9-98f3e8f118c4",
   "metadata": {},
   "outputs": [
    {
     "data": {
      "text/html": [
       "<div>\n",
       "<style scoped>\n",
       "    .dataframe tbody tr th:only-of-type {\n",
       "        vertical-align: middle;\n",
       "    }\n",
       "\n",
       "    .dataframe tbody tr th {\n",
       "        vertical-align: top;\n",
       "    }\n",
       "\n",
       "    .dataframe thead th {\n",
       "        text-align: right;\n",
       "    }\n",
       "</style>\n",
       "<table border=\"1\" class=\"dataframe\">\n",
       "  <thead>\n",
       "    <tr style=\"text-align: right;\">\n",
       "      <th></th>\n",
       "      <th>UniProt ACC</th>\n",
       "      <th>Start</th>\n",
       "      <th>End</th>\n",
       "      <th>Reference</th>\n",
       "      <th>Length</th>\n",
       "    </tr>\n",
       "    <tr>\n",
       "      <th>DisProt entry ID</th>\n",
       "      <th></th>\n",
       "      <th></th>\n",
       "      <th></th>\n",
       "      <th></th>\n",
       "      <th></th>\n",
       "    </tr>\n",
       "  </thead>\n",
       "  <tbody>\n",
       "    <tr>\n",
       "      <th>DP00613</th>\n",
       "      <td>Q22472</td>\n",
       "      <td>1</td>\n",
       "      <td>378</td>\n",
       "      <td>pmid:19899809</td>\n",
       "      <td>378</td>\n",
       "    </tr>\n",
       "    <tr>\n",
       "      <th>DP00868</th>\n",
       "      <td>Q9NHC3</td>\n",
       "      <td>102</td>\n",
       "      <td>117</td>\n",
       "      <td>pmid:21616056</td>\n",
       "      <td>279</td>\n",
       "    </tr>\n",
       "    <tr>\n",
       "      <th>DP01090</th>\n",
       "      <td>G4SLH0</td>\n",
       "      <td>3546</td>\n",
       "      <td>3795</td>\n",
       "      <td>pmid:20346955</td>\n",
       "      <td>18562</td>\n",
       "    </tr>\n",
       "    <tr>\n",
       "      <th>DP01113</th>\n",
       "      <td>D0PV95</td>\n",
       "      <td>1</td>\n",
       "      <td>168</td>\n",
       "      <td>pmid:26015579</td>\n",
       "      <td>708</td>\n",
       "    </tr>\n",
       "    <tr>\n",
       "      <th>DP01313</th>\n",
       "      <td>Q9N4U5</td>\n",
       "      <td>163</td>\n",
       "      <td>223</td>\n",
       "      <td>pmid:27150041</td>\n",
       "      <td>547</td>\n",
       "    </tr>\n",
       "    <tr>\n",
       "      <th>DP01436</th>\n",
       "      <td>P54936</td>\n",
       "      <td>423</td>\n",
       "      <td>487</td>\n",
       "      <td>pmid:12110687</td>\n",
       "      <td>961</td>\n",
       "    </tr>\n",
       "    <tr>\n",
       "      <th>DP01437</th>\n",
       "      <td>P90976</td>\n",
       "      <td>115</td>\n",
       "      <td>180</td>\n",
       "      <td>pmid:12110687</td>\n",
       "      <td>297</td>\n",
       "    </tr>\n",
       "    <tr>\n",
       "      <th>DP01558</th>\n",
       "      <td>Q9XTY3</td>\n",
       "      <td>17</td>\n",
       "      <td>211</td>\n",
       "      <td>pmid:22947085</td>\n",
       "      <td>211</td>\n",
       "    </tr>\n",
       "    <tr>\n",
       "      <th>DP01973</th>\n",
       "      <td>Q09514</td>\n",
       "      <td>1</td>\n",
       "      <td>18</td>\n",
       "      <td>pmid:26621324</td>\n",
       "      <td>266</td>\n",
       "    </tr>\n",
       "    <tr>\n",
       "      <th>DP02025</th>\n",
       "      <td>P30429</td>\n",
       "      <td>1</td>\n",
       "      <td>105</td>\n",
       "      <td>pmid:16208361</td>\n",
       "      <td>571</td>\n",
       "    </tr>\n",
       "    <tr>\n",
       "      <th>DP02216</th>\n",
       "      <td>Q9U3S5</td>\n",
       "      <td>1</td>\n",
       "      <td>100</td>\n",
       "      <td>pmid:30036386</td>\n",
       "      <td>1050</td>\n",
       "    </tr>\n",
       "    <tr>\n",
       "      <th>DP02313</th>\n",
       "      <td>Q8IG33</td>\n",
       "      <td>18</td>\n",
       "      <td>88</td>\n",
       "      <td>pmid:21397184</td>\n",
       "      <td>186</td>\n",
       "    </tr>\n",
       "  </tbody>\n",
       "</table>\n",
       "</div>"
      ],
      "text/plain": [
       "                 UniProt ACC  Start   End      Reference  Length\n",
       "DisProt entry ID                                                \n",
       "DP00613               Q22472      1   378  pmid:19899809     378\n",
       "DP00868               Q9NHC3    102   117  pmid:21616056     279\n",
       "DP01090               G4SLH0   3546  3795  pmid:20346955   18562\n",
       "DP01113               D0PV95      1   168  pmid:26015579     708\n",
       "DP01313               Q9N4U5    163   223  pmid:27150041     547\n",
       "DP01436               P54936    423   487  pmid:12110687     961\n",
       "DP01437               P90976    115   180  pmid:12110687     297\n",
       "DP01558               Q9XTY3     17   211  pmid:22947085     211\n",
       "DP01973               Q09514      1    18  pmid:26621324     266\n",
       "DP02025               P30429      1   105  pmid:16208361     571\n",
       "DP02216               Q9U3S5      1   100  pmid:30036386    1050\n",
       "DP02313               Q8IG33     18    88  pmid:21397184     186"
      ]
     },
     "execution_count": 62,
     "metadata": {},
     "output_type": "execute_result"
    }
   ],
   "source": [
    "new_data = data.drop('DP01407')\n",
    "new_data"
   ]
  },
  {
   "cell_type": "code",
   "execution_count": 64,
   "id": "f8f1dcf8-2988-4fab-b73f-bef4e1c79ea8",
   "metadata": {},
   "outputs": [
    {
     "data": {
      "text/plain": [
       "DisProt entry ID\n",
       "DP00613    Q22472\n",
       "DP00868    Q9NHC3\n",
       "DP01090    G4SLH0\n",
       "DP01113    D0PV95\n",
       "DP01313    Q9N4U5\n",
       "DP01407    O61667\n",
       "DP01436    P54936\n",
       "DP01437    P90976\n",
       "DP01558    Q9XTY3\n",
       "DP01973    Q09514\n",
       "DP02025    P30429\n",
       "DP02216    Q9U3S5\n",
       "DP02313    Q8IG33\n",
       "Name: UniProt ACC, dtype: object"
      ]
     },
     "execution_count": 64,
     "metadata": {},
     "output_type": "execute_result"
    }
   ],
   "source": [
    "selection=data.loc['DP00613': 'DP02313', 'UniProt ACC']\n",
    "selection"
   ]
  },
  {
   "cell_type": "code",
   "execution_count": 65,
   "id": "6c137426-aa1b-47ba-a75f-8c6fc7e6b399",
   "metadata": {},
   "outputs": [
    {
     "data": {
      "text/plain": [
       "0.27"
      ]
     },
     "execution_count": 65,
     "metadata": {},
     "output_type": "execute_result"
    }
   ],
   "source": [
    "pressure = [0.27, 0.25, 0.278]\n",
    "pressure[0]"
   ]
  },
  {
   "cell_type": "code",
   "execution_count": 66,
   "id": "58f2942d-30ea-4be1-8621-b68d7be9e734",
   "metadata": {},
   "outputs": [
    {
     "data": {
      "text/plain": [
       "3"
      ]
     },
     "execution_count": 66,
     "metadata": {},
     "output_type": "execute_result"
    }
   ],
   "source": [
    "len(pressure)"
   ]
  },
  {
   "cell_type": "code",
   "execution_count": 67,
   "id": "e13cb07b-17c1-4bab-bbf9-53d3f70d9501",
   "metadata": {},
   "outputs": [
    {
     "data": {
      "text/plain": [
       "[0.25]"
      ]
     },
     "execution_count": 67,
     "metadata": {},
     "output_type": "execute_result"
    }
   ],
   "source": [
    "pressure[1:2]"
   ]
  },
  {
   "cell_type": "code",
   "execution_count": 69,
   "id": "7a8ddd78-a868-4559-93ed-55ee4e0261a1",
   "metadata": {},
   "outputs": [
    {
     "data": {
      "text/plain": [
       "[0.25, 0.278]"
      ]
     },
     "execution_count": 69,
     "metadata": {},
     "output_type": "execute_result"
    }
   ],
   "source": [
    "pressure[1:3]"
   ]
  },
  {
   "cell_type": "code",
   "execution_count": 70,
   "id": "ecfaf9b5-da3e-4982-b859-9eac81a3c4e8",
   "metadata": {},
   "outputs": [
    {
     "data": {
      "text/plain": [
       "[0.27, 0.278]"
      ]
     },
     "execution_count": 70,
     "metadata": {},
     "output_type": "execute_result"
    }
   ],
   "source": [
    "del pressure[1]\n",
    "pressure"
   ]
  },
  {
   "cell_type": "code",
   "execution_count": 73,
   "id": "d78972a9-95ea-4f88-b417-9e5c3cafe64e",
   "metadata": {},
   "outputs": [],
   "source": [
    "pressure= [1,2,3,4, 'apple']"
   ]
  },
  {
   "cell_type": "code",
   "execution_count": 74,
   "id": "90deea96-aa6e-4f44-ae58-5a65b65dd210",
   "metadata": {},
   "outputs": [
    {
     "name": "stdout",
     "output_type": "stream",
     "text": [
      "1\n",
      "2\n",
      "3\n",
      "4\n",
      "apple\n"
     ]
    }
   ],
   "source": [
    "for number in pressure:\n",
    "    print(number)"
   ]
  },
  {
   "cell_type": "code",
   "execution_count": 75,
   "id": "f02df72f-3deb-4bf1-a238-08d0e53af17c",
   "metadata": {},
   "outputs": [
    {
     "name": "stdout",
     "output_type": "stream",
     "text": [
      "2 4 8\n",
      "3 9 27\n",
      "5 25 125\n"
     ]
    }
   ],
   "source": [
    "primes = [2,3,5]\n",
    "for p in primes:\n",
    "    squared = p**2\n",
    "    cubed= p**3\n",
    "    print(p, squared, cubed)"
   ]
  },
  {
   "cell_type": "code",
   "execution_count": 76,
   "id": "c697689f-6d24-4606-b3de-9bb92fb91110",
   "metadata": {},
   "outputs": [
    {
     "name": "stdout",
     "output_type": "stream",
     "text": [
      "0\n",
      "1\n",
      "2\n"
     ]
    }
   ],
   "source": [
    "for n in range(0,3):\n",
    "    print(n)"
   ]
  },
  {
   "cell_type": "code",
   "execution_count": 82,
   "id": "76fb9ae3-1cd2-4c50-8623-a0097ad4c376",
   "metadata": {},
   "outputs": [
    {
     "name": "stdout",
     "output_type": "stream",
     "text": [
      "A\n",
      "B\n",
      "C\n",
      "D\n",
      "E\n",
      "F\n",
      "G\n",
      "H\n",
      "I\n",
      "J\n",
      "K\n",
      "L\n",
      "M\n",
      "N\n",
      "O\n",
      "P\n",
      "Q\n",
      "R\n",
      "S\n",
      "T\n",
      "U\n",
      "V\n",
      "W\n",
      "X\n",
      "Y\n",
      "Z\n"
     ]
    }
   ],
   "source": [
    "import string\n",
    "for letter in string.ascii_uppercase:\n",
    "    print (letter)"
   ]
  },
  {
   "cell_type": "code",
   "execution_count": 96,
   "id": "948e74b1-d162-49ec-b804-81c21a685f48",
   "metadata": {},
   "outputs": [
    {
     "name": "stdout",
     "output_type": "stream",
     "text": [
      "1\n",
      "2\n",
      "3\n"
     ]
    }
   ],
   "source": [
    "total=0\n",
    "for char in 'tin':\n",
    "    total= total+1\n",
    "    print(total)"
   ]
  },
  {
   "cell_type": "code",
   "execution_count": 102,
   "id": "81041a84-577d-44d6-9557-8c72f7388386",
   "metadata": {},
   "outputs": [
    {
     "data": {
      "text/plain": [
       "Text(0.5, 1.0, 'My very meaningful graph')"
      ]
     },
     "execution_count": 102,
     "metadata": {},
     "output_type": "execute_result"
    },
    {
     "data": {
      "image/png": "[encoded data removed]",
      "text/plain": [
       "<Figure size 432x288 with 1 Axes>"
      ]
     },
     "metadata": {
      "needs_background": "light"
     },
     "output_type": "display_data"
    }
   ],
   "source": [
    "import matplotlib.pyplot as plt\n",
    "res_position= [0,1,2,3]\n",
    "dis_prediction= [0.31,0.44,0.8,0.62]\n",
    "plt.plot(res_position, dis_prediction)\n",
    "plt.xlabel('Residue position')\n",
    "plt.ylabel('Disorder prediction')\n",
    "plt.title('My very meaningful graph')"
   ]
  },
  {
   "cell_type": "code",
   "execution_count": 106,
   "id": "18e9bd1e-aa85-4219-bbef-f82f2b829a9a",
   "metadata": {},
   "outputs": [
    {
     "data": {
      "text/plain": [
       "<AxesSubplot:xlabel='UniProt ACC'>"
      ]
     },
     "execution_count": 106,
     "metadata": {},
     "output_type": "execute_result"
    },
    {
     "data": {
      "image/png": "[encoded data removed]",
      "text/plain": [
       "<Figure size 432x288 with 1 Axes>"
      ]
     },
     "metadata": {
      "needs_background": "light"
     },
     "output_type": "display_data"
    }
   ],
   "source": [
    "data= pd.read_csv('data/DisProt_data_Caenorhabditis-elegans.csv', index_col= 'UniProt ACC')\n",
    "data['Length']. plot()"
   ]
  },
  {
   "cell_type": "code",
   "execution_count": 114,
   "id": "9b3dc0f2-16d1-4f35-a261-eed6c77e9e48",
   "metadata": {},
   "outputs": [
    {
     "data": {
      "text/plain": [
       "<AxesSubplot:>"
      ]
     },
     "execution_count": 114,
     "metadata": {},
     "output_type": "execute_result"
    },
    {
     "data": {
      "image/png": "[encoded data removed]",
      "text/plain": [
       "<Figure size 432x288 with 1 Axes>"
      ]
     },
     "metadata": {
      "needs_background": "light"
     },
     "output_type": "display_data"
    }
   ],
   "source": [
    "data2=pd.read_csv('data/DisProt_and_pred_IDcontent.csv', index_col=[0])\n",
    "data2['DisProt'].head(20). plot()"
   ]
  },
  {
   "cell_type": "code",
   "execution_count": 116,
   "id": "b8434a18-3292-4acb-b63d-a173fe49da6b",
   "metadata": {},
   "outputs": [
    {
     "data": {
      "text/plain": [
       "<AxesSubplot:>"
      ]
     },
     "execution_count": 116,
     "metadata": {},
     "output_type": "execute_result"
    },
    {
     "data": {
      "image/png": "[encoded data removed]",
      "text/plain": [
       "<Figure size 432x288 with 1 Axes>"
      ]
     },
     "metadata": {
      "needs_background": "light"
     },
     "output_type": "display_data"
    }
   ],
   "source": [
    "data2['DisProt'].head(20). plot.bar()"
   ]
  },
  {
   "cell_type": "code",
   "execution_count": 128,
   "id": "b3e78fe6-8dba-4de5-aba6-5f5b915a279c",
   "metadata": {},
   "outputs": [
    {
     "data": {
      "text/plain": [
       "Text(0, 0.5, 'Predictor')"
      ]
     },
     "execution_count": 128,
     "metadata": {},
     "output_type": "execute_result"
    },
    {
     "data": {
      "image/png": "[encoded data removed]",
      "text/plain": [
       "<Figure size 432x288 with 1 Axes>"
      ]
     },
     "metadata": {
      "needs_background": "light"
     },
     "output_type": "display_data"
    }
   ],
   "source": [
    "plt.scatter(data2['DisProt'], data2['Predictor'], c='teal', edgecolors='teal')\n",
    "plt.xlabel('DisProt')\n",
    "plt.ylabel('Predictor')"
   ]
  },
  {
   "cell_type": "code",
   "execution_count": 127,
   "id": "fafab996-a2cc-42c6-9c0d-8d93e51a97bb",
   "metadata": {},
   "outputs": [
    {
     "data": {
      "text/plain": [
       "<AxesSubplot:>"
      ]
     },
     "execution_count": 127,
     "metadata": {},
     "output_type": "execute_result"
    },
    {
     "data": {
      "image/png": "[encoded data removed]",
      "text/plain": [
       "<Figure size 432x288 with 1 Axes>"
      ]
     },
     "metadata": {
      "needs_background": "light"
     },
     "output_type": "display_data"
    }
   ],
   "source": [
    "data2.boxplot()"
   ]
  },
  {
   "cell_type": "code",
   "execution_count": 129,
   "id": "346941ef-53af-448f-a870-fc5318b36959",
   "metadata": {},
   "outputs": [
    {
     "data": {
      "image/png": "[encoded data removed]",
      "text/plain": [
       "<Figure size 432x288 with 1 Axes>"
      ]
     },
     "metadata": {
      "needs_background": "light"
     },
     "output_type": "display_data"
    }
   ],
   "source": [
    "myplot= data2.boxplot(\n",
    "plt.savefig('My figure.png'))"
   ]
  },
  {
   "cell_type": "code",
   "execution_count": null,
   "id": "157a26d7-c28c-45a5-be1a-e424c3cd0d20",
   "metadata": {},
   "outputs": [],
   "source": []
  }
 ],
 "metadata": {
  "kernelspec": {
   "display_name": "Python 3",
   "language": "python",
   "name": "python3"
  },
  "language_info": {
   "codemirror_mode": {
    "name": "ipython",
    "version": 3
   },
   "file_extension": ".py",
   "mimetype": "text/x-python",
   "name": "python",
   "nbconvert_exporter": "python",
   "pygments_lexer": "ipython3",
   "version": "3.8.8"
  }
 },
 "nbformat": 4,
 "nbformat_minor": 5
}
